{
 "cells": [
  {
   "cell_type": "code",
   "execution_count": 1,
   "metadata": {
    "collapsed": false
   },
   "outputs": [],
   "source": [
    "%matplotlib inline"
   ]
  },
  {
   "cell_type": "markdown",
   "metadata": {},
   "source": [
    "\n",
    "用基于注意力机制的seq2seq神经网络进行翻译\n",
    "*************************************************************\n",
    "**作者**: `Sean Robertson <https://github.com/spro/practical-pytorch>`_\n",
    "\n",
    "这个教程主要讲解用一个神经网络将法语翻译成英语.\n",
    "\n",
    "::\n",
    "\n",
    "    [KEY: > input, = target, < output]\n",
    "\n",
    "    > il est en train de peindre un tableau .\n",
    "    = he is painting a picture .\n",
    "    < he is painting a picture .\n",
    "\n",
    "    > pourquoi ne pas essayer ce vin delicieux ?\n",
    "    = why not try that delicious wine ?\n",
    "    < why not try that delicious wine ?\n",
    "\n",
    "    > elle n est pas poete mais romanciere .\n",
    "    = she is not a poet but a novelist .\n",
    "    < she not not a poet but a novelist .\n",
    "\n",
    "    > vous etes trop maigre .\n",
    "    = you re too skinny .\n",
    "    < you re all alone .\n",
    "\n",
    "... 取得不同阶段的成功.\n",
    "\n",
    "这是通过`seq2seq网络 <http://arxiv.org/abs/1409.3215>`__实现的简单却强大的想法,\n",
    "通过两个递归神经网络一起工作实现将一个序列转换为另一个.一个编码器网络将输入序列压\n",
    "缩成向量,解码器网络将该矢量展开为新的序列.\n",
    "\n",
    ".. figure:: /_static/img/seq-seq-images/seq2seq.png\n",
    "   :alt:\n",
    "   \n",
    "为了改进这个模型,我们将使用一种`注意力机制<https://arxiv.org/abs/1409.0473>`__,\n",
    "它可以让解码器学习将注意力集中在输入序列的特定范围上.\n",
    "\n",
    "**推荐阅读:**\n",
    "\n",
    "我们假设你至少已经安装了PyTorch,了解Python,并且了解张量:\n",
    "\n",
    "-  http://pytorch.org/ PyTorch安装说明\n",
    "-  :doc:`/beginner/deep_learning_60min_blitz` 开始使用PyTorch\n",
    "-  :doc:`/beginner/pytorch_with_examples` 进行广泛而深入的了解\n",
    "-  :doc:`/beginner/former_torchies_tutorial` 如果你是前Lua Torch用户\n",
    "\n",
    "\n",
    "这些内容也有利于了解seq2seq网络和其工作机制:\n",
    "\n",
    "-  `用RNN编码器 - 解码器来学习用于统计机器翻译的短语表示 <http://arxiv.org/abs/1406.1078>`__\n",
    "-  `用神经网络进行seq2seq学习 <http://arxiv.org/abs/1409.3215>`__\n",
    "-  `神经网络机器翻译联合学习对齐和翻译 <https://arxiv.org/abs/1409.0473>`__\n",
    "-  `神经会话模型 <http://arxiv.org/abs/1506.05869>`__\n",
    "\n",
    "你还可以找到以前的教程关于Character-Level RNN名称分类\n",
    ":doc:`/intermediate/char_rnn_classification_tutorial`\n",
    "和生成名称 :doc:`/intermediate/char_rnn_generation_tutorial`\n",
    "这些概念与编码器和解码器模型非常相似.\n",
    "\n",
    "更多内容请阅读介绍这些主题的论文:\n",
    "\n",
    "-  `用RNN编码器 - 解码器来学习用于统计机器翻译的短语表示 <http://arxiv.org/abs/1406.1078>`__\n",
    "-  `用神经网络进行seq2seq学习 <http://arxiv.org/abs/1409.3215>`__\n",
    "-  `神经网络机器翻译联合学习对齐和翻译 <https://arxiv.org/abs/1409.0473>`__\n",
    "-  `神经会话模型 <http://arxiv.org/abs/1506.05869>`__\n",
    "\n",
    "\n",
    "**要求**\n",
    "\n"
   ]
  },
  {
   "cell_type": "code",
   "execution_count": 2,
   "metadata": {
    "collapsed": false
   },
   "outputs": [],
   "source": [
    "from __future__ import unicode_literals, print_function, division\n",
    "from io import open\n",
    "import unicodedata\n",
    "import string\n",
    "import re\n",
    "import random\n",
    "\n",
    "import torch\n",
    "import torch.nn as nn\n",
    "from torch.autograd import Variable\n",
    "from torch import optim\n",
    "import torch.nn.functional as F\n",
    "\n",
    "use_cuda = torch.cuda.is_available()"
   ]
  },
  {
   "cell_type": "markdown",
   "metadata": {},
   "source": [
    "加载数据文件\n",
    "==================\n",
    "\n",
    "这个项目的数据是一组数以千计的英语到法语的翻译对.\n",
    "\n",
    "`这个问题在 Open Data Stack Exchange上\n",
    " <http://opendata.stackexchange.com/questions/3888/dataset-of-sentences-translated-into-many-languages>`__\n",
    "指导我们使用开放的翻译网站 http://tatoeba.org/ 可下载地址为 http://tatoeba.org/eng/downloads - 更好的是,\n",
    "有人做了额外的工作,切分语言对到单个文本文件中: http://www.manythings.org/anki/\n",
    "\n",
    "英文到法文对太大而不能包含在repo中,因此开始前请下载\n",
    " ``data/eng-fra.txt``. 该文件是一个制表符分隔的翻译对列表: :\n",
    "\n",
    "::\n",
    "\n",
    "    I am cold.    Je suis froid.\n",
    "\n",
    ".. Note::\n",
    "   下载数据文件在\n",
    "   `这里 <https://download.pytorch.org/tutorial/data.zip>`_\n",
    "   并解压到正确的路径.\n",
    "\n"
   ]
  },
  {
   "cell_type": "markdown",
   "metadata": {},
   "source": [
    "与character-level RNN教程中使用的字符编码类似,我们将用语言中的每个单词\n",
    "作为独热向量,或者除了单个单词之外(在单词的索引处)的大的零向量. 相较于可能\n",
    "存在于一种语言中仅有十个字符相比,多数都是有大量的字,因此编码向量很大. \n",
    "然而,我们会欺骗性的做一些数据修剪,保证每种语言只使用几千字.\n",
    "\n",
    ".. figure:: /_static/img/seq-seq-images/word-encoding.png\n",
    "   :alt:http://pytorch.apachecn.org/cn/tutorials/_images/word-encoding.png\n",
    "\n",
    "\n",
    "\n"
   ]
  },
  {
   "cell_type": "markdown",
   "metadata": {},
   "source": [
    "我们需要每个单词对应唯一的索引作为稍后的网络输入和目标.为了追踪这些索引我们使用一个帮助类\n",
    " ``Lang`` 类中有 词 → 索引 (``word2index``) 和 索引 → 词\n",
    "(``index2word``) 的字典, 以及每个词``word2count`` 用来替换稀疏词汇.\n",
    "\n",
    "\n"
   ]
  },
  {
   "cell_type": "code",
   "execution_count": 3,
   "metadata": {
    "collapsed": false
   },
   "outputs": [],
   "source": [
    "SOS_token = 0\n",
    "EOS_token = 1\n",
    "\n",
    "#建立词袋\n",
    "class Lang:\n",
    "    def __init__(self, name):\n",
    "        self.name = name\n",
    "        self.word2index = {}#word:index\n",
    "        self.word2count = {}#word:count\n",
    "        self.index2word = {0: \"SOS\", 1: \"EOS\"}\n",
    "        self.n_words = 2  # Count SOS and EOS，#从2开始编号\n",
    "\n",
    "    #分割句子里面的单词\n",
    "    def addSentence(self, sentence):\n",
    "        for word in sentence.split(' '):\n",
    "            self.addWord(word)\n",
    "\n",
    "    #将单词添加在列表中\n",
    "    def addWord(self, word):\n",
    "        if word not in self.word2index:\n",
    "            self.word2index[word] = self.n_words #Count SOS and EOS，#从2开始编号#word:index\n",
    "            self.word2count[word] = 1 #word:count\n",
    "            self.index2word[self.n_words] = word#index:word\n",
    "            self.n_words += 1#统计不同单词的个数\n",
    "        else:\n",
    "            self.word2count[word] += 1#统计单词出现的次数"
   ]
  },
  {
   "cell_type": "markdown",
   "metadata": {},
   "source": [
    "这些文件全部采用Unicode编码,为了简化我们将Unicode字符转换为ASCII,\n",
    "使所有内容小写,并修剪大部分标点符号.\n",
    "\n"
   ]
  },
  {
   "cell_type": "code",
   "execution_count": 4,
   "metadata": {
    "collapsed": false
   },
   "outputs": [],
   "source": [
    "# 感谢您将Unicode字符串转换为纯ASCII\n",
    "# http://stackoverflow.com/a/518232/2809427\n",
    "def unicodeToAscii(s):\n",
    "    return ''.join(\n",
    "        c for c in unicodedata.normalize('NFD', s)\n",
    "        if unicodedata.category(c) != 'Mn'\n",
    "    )\n",
    "\n",
    "# 小写,修剪和删除非字母字符\n",
    "def normalizeString(s):\n",
    "    s = unicodeToAscii(s.lower().strip())\n",
    "    s = re.sub(r\"([.!?])\", r\" \\1\", s)\n",
    "    s = re.sub(r\"[^a-zA-Z.!?]+\", r\" \", s)\n",
    "    return s"
   ]
  },
  {
   "cell_type": "code",
   "execution_count": 5,
   "metadata": {
    "collapsed": false
   },
   "outputs": [
    {
     "name": "stdout",
     "output_type": "stream",
     "text": [
      "JGood-is-a-handsome-boy,-he-is-cool,-clever,-and-so-on…\n"
     ]
    }
   ],
   "source": [
    "#re.sub用于替换字符串中的匹配项。下面一个例子将字符串中的空格 ’ ’ 替换成 ‘-’ : \n",
    "text = \"JGood is a handsome boy, he is cool, clever, and so on…\" \n",
    "print(re.sub(r'\\s+','-', text))"
   ]
  },
  {
   "cell_type": "markdown",
   "metadata": {},
   "source": [
    "要读取数据文件,我们将把文件分成行,然后将行成对分开.\n",
    "这些文件都是英文→其他语言,所以如果我们想从其他语言翻译→英文,我们添加了\n",
    "翻转标志 ``reverse``来翻转词语对.\n",
    "\n",
    "\n"
   ]
  },
  {
   "cell_type": "code",
   "execution_count": 6,
   "metadata": {
    "collapsed": false
   },
   "outputs": [],
   "source": [
    "#读取文件中的翻译对，reverse=True时，input_lang为法文句子，output_lang为英文句子，pairs为法文句子-->英文句子的翻译对\n",
    "def readLangs(lang1, lang2, reverse=False):\n",
    "    print(\"Reading lines...\")\n",
    "\n",
    "    # 读取文件并按行分开\n",
    "    lines = open('data/%s-%s.txt' % (lang1, lang2), encoding='utf-8').\\\n",
    "        read().strip().split('\\n')\n",
    "\n",
    "    # 将每一行分成两列并进行标准化\n",
    "    pairs = [[normalizeString(s) for s in l.split('\\t')] for l in lines]#\\t是水平制表符\n",
    "\n",
    "    # 翻转对,Lang实例化\n",
    "    if reverse:#其他语言-->英语\n",
    "        pairs = [list(reversed(p)) for p in pairs]#反转字符串\n",
    "        input_lang = Lang(lang2)\n",
    "        output_lang = Lang(lang1)\n",
    "    else:#英语-->其他语言\n",
    "        input_lang = Lang(lang1)\n",
    "        output_lang = Lang(lang2)\n",
    "\n",
    "    return input_lang, output_lang, pairs"
   ]
  },
  {
   "cell_type": "code",
   "execution_count": 7,
   "metadata": {
    "collapsed": false
   },
   "outputs": [
    {
     "name": "stdout",
     "output_type": "stream",
     "text": [
      "2\n",
      "[\"'Runoob2\", \"'Runoob1\"]\n"
     ]
    },
    {
     "data": {
      "text/plain": [
       "<__main__.Lang at 0x7f117d265b00>"
      ]
     },
     "execution_count": 7,
     "metadata": {},
     "output_type": "execute_result"
    }
   ],
   "source": [
    "#reversed反转字符串用法：\n",
    "seqString = (\"'Runoob1\",\"'Runoob2\")\n",
    "print(len(seqString))\n",
    "print(list(reversed(seqString)))\n",
    "Lang('eng')"
   ]
  },
  {
   "cell_type": "markdown",
   "metadata": {},
   "source": [
    "由于有很多例句,我们希望快速训练,我们会将数据集裁剪为相对简短的句子. \n",
    "这里的单词的最大长度是10词(包括结束标点符号),我们正在过滤到翻译\n",
    "成\"I am\"或\"He is\"等形式的句子.(考虑到先前替换了撇号).\n",
    "\n",
    "\n"
   ]
  },
  {
   "cell_type": "code",
   "execution_count": 8,
   "metadata": {
    "collapsed": false
   },
   "outputs": [],
   "source": [
    "MAX_LENGTH = 10\n",
    "\n",
    "eng_prefixes = (\n",
    "    \"i am \", \"i m \",\n",
    "    \"he is\", \"he s \",\n",
    "    \"she is\", \"she s\",\n",
    "    \"you are\", \"you re \",\n",
    "    \"we are\", \"we re \",\n",
    "    \"they are\", \"they re \"\n",
    ")\n",
    "\n",
    "#Python 通常是一行写完一条语句，但如果语句很长，我们可以使用反斜杠(\\)来实现多行语句\n",
    "def filterPair(p):\n",
    "    return len(p[0].split(' ')) < MAX_LENGTH and \\\n",
    "        len(p[1].split(' ')) < MAX_LENGTH and \\\n",
    "        p[1].startswith(eng_prefixes)#要选择英语状态下包含eng_prefixes其中一个的句子\n",
    "\n",
    "\n",
    "def filterPairs(pairs):\n",
    "    return [pair for pair in pairs if filterPair(pair)]"
   ]
  },
  {
   "cell_type": "code",
   "execution_count": 9,
   "metadata": {
    "collapsed": false
   },
   "outputs": [
    {
     "name": "stdout",
     "output_type": "stream",
     "text": [
      "True\n",
      "True\n",
      "False\n",
      "True\n",
      "False\n"
     ]
    }
   ],
   "source": [
    "#startswith() 方法用于检查字符串是否是以指定子字符串开头，如果是则返回 True，否则返回 False。\n",
    "#如果参数 beg 和 end 指定值，则在指定范围内检查。\n",
    "str = \"this is string example....wow!!!\"\n",
    "str1 = \"is string example....wow!!!\"\n",
    "\n",
    "print(str.startswith( ('this','is') ))\n",
    "print(str1.startswith( ('this','is') ))\n",
    "print(str.startswith( 'is'))\n",
    "print(str.startswith( 'is', 2, 4 ))\n",
    "print(str.startswith( 'this', 2, 4 ));"
   ]
  },
  {
   "cell_type": "markdown",
   "metadata": {},
   "source": [
    "完整的准备数据的过程:\n",
    "\n",
    "-  加载文本文件切分成行,并切分成单词对:\n",
    "-  文本归一化, 按照长度和内容过滤\n",
    "-  从成对的句子中制作单词列表\n",
    "\n",
    "\n"
   ]
  },
  {
   "cell_type": "code",
   "execution_count": 10,
   "metadata": {
    "collapsed": false
   },
   "outputs": [
    {
     "name": "stdout",
     "output_type": "stream",
     "text": [
      "Reading lines...\n",
      "Read 135842 sentence pairs\n",
      "Trimmed to 10853 sentence pairs\n",
      "Counting words...\n",
      "Counted words:\n",
      "fra 4489\n",
      "eng 2925\n"
     ]
    }
   ],
   "source": [
    "def prepareData(lang1, lang2, reverse=False):\n",
    "    #input_lang, output_lang为利用Lang这个类创建的对象拥有各种属性\n",
    "    #input_lang.name_readLangs: {} output_lang.name_readLangs: eng\n",
    "    input_lang, output_lang, pairs = readLangs(lang1, lang2, reverse)\n",
    "#     print('input_lang.word2index_readLangs:',input_lang.word2index, 'output_lang.name_readLangs:',output_lang.name, \n",
    "#           'pairs_readLangs:',random.choice(pairs))\n",
    "    print(\"Read %s sentence pairs\" % len(pairs))#打印全部句子的对数\n",
    "    #我们希望快速训练,我们会将数据集裁剪为相对简短的句子\n",
    "    pairs = filterPairs(pairs)#过滤掉不符合要求的句子对\n",
    "    print(\"Trimmed to %s sentence pairs\" % len(pairs))\n",
    "    \n",
    "    #分别制作输入与输出的词袋：单词+索引+词频+不同单词的个数\n",
    "    print(\"Counting words...\")\n",
    "    for pair in pairs:\n",
    "        input_lang.addSentence(pair[0])\n",
    "        output_lang.addSentence(pair[1])\n",
    "    print(\"Counted words:\")\n",
    "    print(input_lang.name, input_lang.n_words)\n",
    "    print(output_lang.name, output_lang.n_words)\n",
    "    return input_lang, output_lang, pairs\n",
    "\n",
    "#input_lang和output_lang包含了类Lang里面的各种属性, pairs:fra-->eng\n",
    "#lang1:eng, lang2:fra, reverse:True\n",
    "input_lang, output_lang, pairs = prepareData('eng', 'fra', True)"
   ]
  },
  {
   "cell_type": "code",
   "execution_count": 11,
   "metadata": {
    "collapsed": false
   },
   "outputs": [
    {
     "name": "stdout",
     "output_type": "stream",
     "text": [
      "['elles mentent toutes .', 'they re all lying .']\n"
     ]
    }
   ],
   "source": [
    "print(random.choice(pairs))\n",
    "#print(len(input_lang.word2index),input_lang.word2index.items())"
   ]
  },
  {
   "cell_type": "code",
   "execution_count": 12,
   "metadata": {
    "collapsed": false
   },
   "outputs": [
    {
     "name": "stdout",
     "output_type": "stream",
     "text": [
      "part_random: ['je suis mariee .', 'i am married .']\n"
     ]
    }
   ],
   "source": [
    "#随机挑选一个翻译对进行测试\n",
    "part_random=random.choice(pairs)\n",
    "print('part_random:',part_random)"
   ]
  },
  {
   "cell_type": "markdown",
   "metadata": {},
   "source": [
    "Seq2Seq模型\n",
    "=================\n",
    "\n",
    "递归神经网络(RNN),是一个按照一个序列进行操作的网路,并\n",
    "将其自己的输出用作后续步骤的输入.\n",
    "\n",
    "一个 `序列到序列网络 <http://arxiv.org/abs/1409.3215>`__, 或\n",
    "seq2seq 网络, 或 `编码解码器网络 <https://arxiv.org/pdf/1406.1078v3.pdf>`__, \n",
    "是由两个称为编码器和解码器的RNN组成的模型. 编码器读取输入序列并输出单个向量,\n",
    "解码器读取该向量以产生输出序列.\n",
    "\n",
    ".. figure:: /_static/img/seq-seq-images/seq2seq.png\n",
    "   :alt:http://pytorch.apachecn.org/cn/tutorials/_images/seq2seq.png\n",
    "\n",
    "与单个RNN的序列预测不同,每个输入对应一个输出,\n",
    "seq2seq模型将我们从序列长度和顺序中解放出来,\n",
    "这使得它成为两种语言之间翻译的理想选择.\n",
    "\n",
    "考虑这句话 \"Je ne suis pas le chat noir\" → \"I am not the\n",
    "black cat\".  输入句子中的大部分单词在输出句子中有直接翻译,\n",
    "但顺序略有不同,例如: \"chat noir\" 和 \"black cat\". 由于 \n",
    "\"ne/pas\"结构, 其中另一个单词在输入的句子中. \n",
    "直接从输入词的序列中直接生成正确的翻译是很困难的.\n",
    "\n",
    "使用seq2seq模型,编码器会创建一个单独的向量,\n",
    "在理想情况下,它将输入序列的\"含义\"编码为单个向量 - 句子的N维空间中的一个点.\n",
    "\n",
    "\n"
   ]
  },
  {
   "cell_type": "markdown",
   "metadata": {},
   "source": [
    "编码器\n",
    "-----------\n",
    "\n",
    "seq2seq网络的编码器是一个RNN,它为输入句子中的每个单词输出一些值.\n",
    "对于每个输入字,编码器输出一个向量和一个隐藏状态,并将隐藏状态用于下一个输入字.\n",
    "\n",
    ".. figure:: http://pytorch.apachecn.org/cn/tutorials/_images/encoder-network.png\n",
    "   :alt:\n",
    "\n",
    "\n",
    "\n"
   ]
  },
  {
   "cell_type": "code",
   "execution_count": 13,
   "metadata": {
    "collapsed": false
   },
   "outputs": [],
   "source": [
    "#将每个单词进行编码为一个有256个属性值的向量\n",
    "#input是单词所在的索引位置\n",
    "#output是单词经过编码之后的编码向量\n",
    "class EncoderRNN(nn.Module):\n",
    "    def __init__(self, input_size, hidden_size):\n",
    "        super(EncoderRNN, self).__init__()\n",
    "        self.hidden_size = hidden_size\n",
    "\n",
    "        #返回input_size对应索引下的样本\n",
    "        self.embedding = nn.Embedding(input_size, hidden_size)\n",
    "        self.gru = nn.GRU(hidden_size, hidden_size)#相当于RNN\n",
    "\n",
    "    def forward(self, input, hidden):\n",
    "        #这是一个矩阵类，里面初始化了一个随机矩阵，矩阵的长是字典的大小，\n",
    "        #宽是用来表示字典中每个元素的属性向量，向量的维度根据你想要表示的元素的复杂度而定。\n",
    "        #而对于一个词，我们自己去想它的属性不是很困难吗，所以这个时候就可以交给神经网络了，\n",
    "        #我们只需要定义我们想要的维度，比如100，然后通过神经网络去学习它的每一个属性的大小，\n",
    "        #而我们并不用关心到底这个属性代表着什么，我们只需要知道词向量的夹角越小，表示他们之间的语义更加接近\n",
    "        embedded = self.embedding(input).view(1, 1, -1)#相当于将每个单词返回一个256个属性值\n",
    "        output = embedded\n",
    "        output, hidden = self.gru(output, hidden)\n",
    "        return output, hidden\n",
    "\n",
    "    def initHidden(self):\n",
    "        result = Variable(torch.zeros(1, 1, self.hidden_size))\n",
    "        if use_cuda:\n",
    "            return result.cuda()\n",
    "        else:\n",
    "            return result\n"
   ]
  },
  {
   "cell_type": "code",
   "execution_count": 14,
   "metadata": {
    "collapsed": false
   },
   "outputs": [
    {
     "name": "stdout",
     "output_type": "stream",
     "text": [
      "4489\n",
      "EncoderRNN(\n",
      "  (embedding): Embedding(4489, 256)\n",
      "  (gru): GRU(256, 256)\n",
      ")\n"
     ]
    }
   ],
   "source": [
    "#测试EncoderRNN的功能\n",
    "hidden_size = 256\n",
    "print(input_lang.n_words)#表示用于输入需要翻译句子的单词个数\n",
    "encoder1_test = EncoderRNN(input_lang.n_words, hidden_size)\n",
    "print(encoder1_test)"
   ]
  },
  {
   "cell_type": "code",
   "execution_count": 15,
   "metadata": {
    "collapsed": false
   },
   "outputs": [
    {
     "name": "stdout",
     "output_type": "stream",
     "text": [
      "Embedding(10, 4)\n",
      "<class 'torch.nn.modules.sparse.Embedding'>\n",
      "embedding(input):\n",
      " tensor([[[-0.8626, -0.4190,  1.1497,  1.1777],\n",
      "         [-0.0144,  1.3691,  1.9146,  1.3023],\n",
      "         [ 2.1524,  1.4383,  0.8639, -1.0514],\n",
      "         [ 1.4872, -0.2425,  0.6671,  2.9068]],\n",
      "\n",
      "        [[ 2.1524,  1.4383,  0.8639, -1.0514],\n",
      "         [-1.1365,  0.5926, -1.3604,  1.3536],\n",
      "         [-0.0144,  1.3691,  1.9146,  1.3023],\n",
      "         [ 0.5676, -0.3520,  0.6516, -0.3649]]], grad_fn=<EmbeddingBackward>)\n",
      "a.view(-1): tensor([1, 2, 3, 4, 2, 3, 4, 5])\n",
      "a.view(-1,2):\n",
      " tensor([[1, 2],\n",
      "        [3, 4],\n",
      "        [2, 3],\n",
      "        [4, 5]])\n",
      "a.view(4,-1):\n",
      " tensor([[1, 2],\n",
      "        [3, 4],\n",
      "        [2, 3],\n",
      "        [4, 5]])\n",
      "GRU(10, 20, num_layers=2)\n",
      "output: torch.Size([5, 3, 20])  hn: torch.Size([2, 3, 20])\n"
     ]
    }
   ],
   "source": [
    "#返回input对应索引下的样本\n",
    "# an Embedding module containing 10 tensors of size 3\n",
    "embedding = nn.Embedding(10, 4)\n",
    "# a batch of 2 samples of 4 indices each\n",
    "print(embedding)\n",
    "print(type(embedding))\n",
    "input = Variable(torch.LongTensor([[1,2,4,5],[4,3,2,9]]))\n",
    "print('embedding(input):\\n',embedding(input))\n",
    "\n",
    "#view用法\n",
    "a=torch.tensor([[1,2,3,4],[2,3,4,5]])\n",
    "print('a.view(-1):',a.view(-1))\n",
    "print('a.view(-1,2):\\n',a.view(-1,2))\n",
    "print('a.view(4,-1):\\n',a.view(4,-1))\n",
    "\n",
    "#nn.GRU的用法\n",
    "rnn1 = nn.GRU(10, 20, 2)\n",
    "print(rnn1)\n",
    "input = Variable(torch.randn(5, 3, 10))\n",
    "h0 = Variable(torch.randn(2, 3, 20))\n",
    "output, hn = rnn1(input, h0)\n",
    "print('output:',output.size(),' hn:', hn.size())"
   ]
  },
  {
   "cell_type": "markdown",
   "metadata": {},
   "source": [
    "解码器\n",
    "-----------\n",
    "\n",
    "解码器是另一个RNN,它接收编码器输出向量并输出一个单词序列来创建翻译.\n",
    "\n",
    "\n"
   ]
  },
  {
   "cell_type": "markdown",
   "metadata": {},
   "source": [
    "简单的解码器\n",
    "^^^^^^^^^^^^^^\n",
    "\n",
    "在最简单的seq2seq解码器中,我们只使用编码器的最后一个输出.\n",
    "这个最后的输出有时称为上下文向量,因为它从整个序列编码上下文.\n",
    "该上下文向量被用作解码器的初始隐藏状态.\n",
    "\n",
    "在解码的每一步,解码器都被赋予一个输入指令和隐藏状态.\n",
    "初始输入指令字符串开始的``<SOS>``指令,第一个隐藏状态是上下文向量(编码器的最后隐藏状态).\n",
    "\n",
    ".. figure:http://pytorch.apachecn.org/cn/tutorials/_images/decoder-network.png\n",
    "   :alt:\n",
    "\n",
    "\n",
    "\n"
   ]
  },
  {
   "cell_type": "code",
   "execution_count": 16,
   "metadata": {
    "collapsed": false
   },
   "outputs": [],
   "source": [
    "class DecoderRNN(nn.Module):\n",
    "    def __init__(self, hidden_size, output_size):\n",
    "        super(DecoderRNN, self).__init__()\n",
    "        self.hidden_size = hidden_size\n",
    "\n",
    "        self.embedding = nn.Embedding(output_size, hidden_size)\n",
    "        self.gru = nn.GRU(hidden_size, hidden_size)\n",
    "        self.out = nn.Linear(hidden_size, output_size)\n",
    "        self.softmax = nn.LogSoftmax(dim=1)\n",
    "\n",
    "    def forward(self, input, hidden):\n",
    "        output = self.embedding(input).view(1, 1, -1)\n",
    "        output = F.relu(output)\n",
    "        output, hidden = self.gru(output, hidden)\n",
    "        output = self.softmax(self.out(output[0]))\n",
    "        return output, hidden\n",
    "\n",
    "    def initHidden(self):\n",
    "        result = Variable(torch.zeros(1, 1, self.hidden_size))\n",
    "        if use_cuda:\n",
    "            return result.cuda()\n",
    "        else:\n",
    "            return result\n",
    "        "
   ]
  },
  {
   "cell_type": "code",
   "execution_count": 17,
   "metadata": {
    "collapsed": false
   },
   "outputs": [
    {
     "name": "stdout",
     "output_type": "stream",
     "text": [
      "DecoderRNN(\n",
      "  (embedding): Embedding(2925, 256)\n",
      "  (gru): GRU(256, 256)\n",
      "  (out): Linear(in_features=256, out_features=2925, bias=True)\n",
      "  (softmax): LogSoftmax()\n",
      ")\n"
     ]
    }
   ],
   "source": [
    "DecoderRNN_test=DecoderRNN(hidden_size,output_lang.n_words)\n",
    "print(DecoderRNN_test)"
   ]
  },
  {
   "cell_type": "markdown",
   "metadata": {},
   "source": [
    "我们鼓励你训练和观察这个模型的结果,但为了节省空间,我们将直接进正题引入注意力机制.\n",
    "\n",
    "\n"
   ]
  },
  {
   "cell_type": "markdown",
   "metadata": {},
   "source": [
    "注意力解码器\n",
    "^^^^^^^^^^^^^^^^^\n",
    "\n",
    "如果仅在编码器和解码器之间传递上下文向量,则该单个向量承担编码整个句子的负担.\n",
    "\n",
    "注意力允许解码器网络针对解码器自身输出的每一步\"聚焦\"编码器输出的不同部分. \n",
    "首先我们计算一组注意力权重. 这些将被乘以编码器输出矢量获得加权的组合. \n",
    "结果(在代码中为``attn_applied``) 应该包含关于输入序列的特定部分的信息,\n",
    "从而帮助解码器选择正确的输出单词.\n",
    "\n",
    ".. figure:: https://i.imgur.com/1152PYf.png\n",
    "   :alt:\n",
    "\n",
    "使用解码器的输入和隐藏状态作为输入,利用另一个前馈层 ``attn``计算注意力权重, \n",
    "由于训练数据中有各种大小的句子,为了实际创建和训练此层,\n",
    "我们必须选择最大长度的句子(输入长度,用于编码器输出),以适用于此层.\n",
    "最大长度的句子将使用所有注意力权重,而较短的句子只使用前几个.\n",
    "\n",
    ".. figure:: http://pytorch.apachecn.org/cn/tutorials/_images/attention-decoder-network.png\n",
    "   :alt:\n",
    "\n",
    "橙色：变量名\n",
    "\n",
    "蓝色：执行的操作\n",
    "\n",
    "青色：激活函数\n",
    "\n",
    "\n"
   ]
  },
  {
   "cell_type": "code",
   "execution_count": 18,
   "metadata": {
    "collapsed": false
   },
   "outputs": [
    {
     "name": "stdout",
     "output_type": "stream",
     "text": [
      "AttnDecoderRNN(\n",
      "  (embedding): Embedding(2925, 256)\n",
      "  (attn): Linear(in_features=512, out_features=10, bias=True)\n",
      "  (attn_combine): Linear(in_features=512, out_features=256, bias=True)\n",
      "  (dropout): Dropout(p=0.1)\n",
      "  (gru): GRU(256, 256)\n",
      "  (out): Linear(in_features=256, out_features=2925, bias=True)\n",
      ")\n"
     ]
    }
   ],
   "source": [
    "class AttnDecoderRNN(nn.Module):\n",
    "    def __init__(self, hidden_size, output_size, dropout_p=0.1, max_length=MAX_LENGTH):\n",
    "        super(AttnDecoderRNN, self).__init__()\n",
    "        \n",
    "        #赋值\n",
    "        self.hidden_size = hidden_size\n",
    "        self.output_size = output_size\n",
    "        self.dropout_p = dropout_p\n",
    "        self.max_length = max_length\n",
    "\n",
    "        #定义网络\n",
    "        #为要输出的单词库中的每一个单词初始化其词向量\n",
    "        self.embedding = nn.Embedding(self.output_size, self.hidden_size)\n",
    "        self.attn = nn.Linear(self.hidden_size * 2, self.max_length)\n",
    "        self.attn_combine = nn.Linear(self.hidden_size * 2, self.hidden_size)\n",
    "        self.dropout = nn.Dropout(self.dropout_p)\n",
    "        self.gru = nn.GRU(self.hidden_size, self.hidden_size)\n",
    "        self.out = nn.Linear(self.hidden_size, self.output_size)\n",
    "\n",
    "    def forward(self, input, hidden, encoder_outputs):\n",
    "        embedded = self.embedding(input).view(1, 1, -1)#取出以input为下标的词向量\n",
    "        embedded = self.dropout(embedded)#随机约减词向量的属性\n",
    "        #计算注意力权重\n",
    "        attn_weights = F.softmax(self.attn(torch.cat((embedded[0], hidden[0]), 1)), dim=1)#有10个元素\n",
    "        #print('attn_weights:',attn_weights.size())#attn_weights: torch.Size([1, 10])\n",
    "        \n",
    "        #注意力允许解码器网络针对解码器自身输出的每一步”聚焦”编码器输出的不同部分\n",
    "        #执行矩阵相乘的操作\n",
    "        attn_applied = torch.bmm(attn_weights.unsqueeze(0),encoder_outputs.unsqueeze(0))\n",
    "\n",
    "        #将上一个单词的词向量同编码器输出之后经过注意力计算得到的词向量进行连接\n",
    "        output = torch.cat((embedded[0], attn_applied[0]), 1)#横向连接\n",
    "        #将output映射到hidden_size上，在0的位置上增加1个纬度\n",
    "        output = self.attn_combine(output).unsqueeze(0)\n",
    "\n",
    "        output = F.relu(output)\n",
    "        output, hidden = self.gru(output, hidden)\n",
    "\n",
    "        output = F.log_softmax(self.out(output[0]), dim=1)\n",
    "        return output, hidden, attn_weights\n",
    "\n",
    "    def initHidden(self):\n",
    "        result = Variable(torch.zeros(1, 1, self.hidden_size))\n",
    "        if use_cuda:\n",
    "            return result.cuda()\n",
    "        else:\n",
    "            return result\n",
    "\n",
    "attn_decoder_test = AttnDecoderRNN(hidden_size, output_lang.n_words, dropout_p=0.1)\n",
    "print(attn_decoder_test)"
   ]
  },
  {
   "cell_type": "code",
   "execution_count": 19,
   "metadata": {
    "collapsed": false
   },
   "outputs": [
    {
     "name": "stdout",
     "output_type": "stream",
     "text": [
      "torch.Size([10, 3, 5])\n",
      "torch.Size([4])\n",
      "tensor([[1., 2., 3., 4.]])\n",
      "tensor([[1.],\n",
      "        [2.],\n",
      "        [3.],\n",
      "        [4.]])\n"
     ]
    }
   ],
   "source": [
    "#torch.bmm()的用法：\n",
    ">>> batch1 = torch.randn(10, 3, 4)\n",
    ">>> batch2 = torch.randn(10, 4, 5)\n",
    ">>> res = torch.bmm(batch1, batch2)\n",
    ">>> print(res.size())\n",
    "\n",
    "#torch.unsqueeze\n",
    ">>> x = torch.Tensor([1, 2, 3, 4])\n",
    "print(x.size())\n",
    "print(x.unsqueeze(0))#在0的位置上加1个纬度\n",
    ">>> print(torch.unsqueeze(x, 1))#在1的位置上加1个纬度\n"
   ]
  },
  {
   "cell_type": "markdown",
   "metadata": {},
   "source": [
    "<div class=\"alert alert-info\"><h4>Note</h4><p>还有其他形式的注意力通过使用相对位置方法来解决长度限制. 阅读关于 \"local\n",
    "   attention\" 在 `基于注意力的神经机器翻译的有效途径 <https://arxiv.org/abs/1508.04025>`__.</p></div>\n",
    "\n",
    " 训练\n",
    " ========\n",
    "\n",
    " 准备训练数据\n",
    " -----------------------\n",
    "为了训练,对于每一对我们将需要输入的张量(输入句子中的词的索引)和\n",
    " 目标张量(目标语句中的词的索引). 在创建这些向量时,我们会将EOS标记添加到两个序列中.\n",
    "\n",
    "\n"
   ]
  },
  {
   "cell_type": "code",
   "execution_count": 20,
   "metadata": {
    "collapsed": false
   },
   "outputs": [],
   "source": [
    "#句子向索引序列进行转化\n",
    "def indexesFromSentence(lang, sentence):\n",
    "    return [lang.word2index[word] for word in sentence.split(' ')]\n",
    "\n",
    "#句子向变量转化\n",
    "def variableFromSentence(lang, sentence):\n",
    "    indexes = indexesFromSentence(lang, sentence)#得到句子的索引序列\n",
    "    indexes.append(EOS_token)#添加EOS标记\n",
    "    result = Variable(torch.LongTensor(indexes).view(-1, 1))#封装变量\n",
    "    if use_cuda:\n",
    "        return result.cuda()\n",
    "    else:\n",
    "        return result\n",
    "\n",
    "#句子对向变量转化\n",
    "def variablesFromPair(pair):\n",
    "    input_variable = variableFromSentence(input_lang, pair[0])\n",
    "    target_variable = variableFromSentence(output_lang, pair[1])\n",
    "    return (input_variable, target_variable)"
   ]
  },
  {
   "cell_type": "code",
   "execution_count": 21,
   "metadata": {
    "collapsed": false
   },
   "outputs": [
    {
     "name": "stdout",
     "output_type": "stream",
     "text": [
      "part_random: ['je suis mariee .', 'i am married .']\n",
      "input_variable:\n",
      " tensor([[  6],\n",
      "        [ 11],\n",
      "        [297],\n",
      "        [  5],\n",
      "        [  1]]) \n",
      "---------------------\n",
      " target_variable:\n",
      " tensor([[  2],\n",
      "        [ 16],\n",
      "        [183],\n",
      "        [  4],\n",
      "        [  1]])\n",
      "input_variable.size():\n",
      " torch.Size([5, 1]) \n",
      "---------------------\n",
      " target_variable.size():\n",
      " torch.Size([5, 1])\n",
      "tensor([2]) torch.Size([1]) tensor([2])\n",
      "output_lang.index2word[130]= you\n"
     ]
    }
   ],
   "source": [
    "print('part_random:',part_random)\n",
    "input_variable, target_variable = variablesFromPair(part_random)\n",
    "print('input_variable:\\n',input_variable,'\\n---------------------\\n target_variable:\\n', target_variable)\n",
    "print('input_variable.size():\\n',input_variable.size(),'\\n---------------------\\n',\n",
    "      'target_variable.size():\\n', target_variable.size())\n",
    "index = target_variable[0]\n",
    "print(index,index.size(),index.reshape(1))\n",
    "print('output_lang.index2word[130]=',output_lang.index2word[130])"
   ]
  },
  {
   "cell_type": "markdown",
   "metadata": {},
   "source": [
    "训练模型\n",
    "------------------\n",
    "\n",
    "为了训练我们通过编码器运行输入句子,并跟踪每个输出和最新的隐藏状态.\n",
    "然后解码器被赋予``<SOS>`` 指令作为其第一个输入,\n",
    "并将编码器的最后一个隐藏状态作为其第一个隐藏状态.\n",
    "\n",
    "\"Teacher forcing\" 是将实际目标输出用作每个下一个输入的概念,而不是将解码器的\n",
    "猜测用作下一个输入.使用教师强迫会使其更快地收敛,但是 `当训练好的网络被利用时,它可能表现出不稳定性.\n",
    "\n",
    "http://minds.jacobs-university.de/sites/default/files/uploads/papers/ESNTutorialRev.pdf.\n",
    "\n",
    "你可以观察教师强迫网络的输出,这些网络是用连贯的语法阅读的,但却远离了正确的翻译 - \n",
    "直观地来看它已经学会了代表输出语法,并且一旦老师告诉它前几个单词,就可以\"拾取\"它的意思,\n",
    " 但它没有适当地学会如何从翻译中创建句子.\n",
    "\n",
    "由于PyTorch的autograd给我们的自由,我们可以随意选择使用老师强制或不使用简单的if语句. \n",
    "打开``teacher_forcing_ratio``更多的使用它.\n",
    "\n",
    "\n"
   ]
  },
  {
   "cell_type": "code",
   "execution_count": 22,
   "metadata": {
    "collapsed": false
   },
   "outputs": [],
   "source": [
    "teacher_forcing_ratio = 0.5\n",
    "\n",
    "#计算目标输出对每个单词的损失\n",
    "# loss = train(input_variable, target_variable, encoder,\n",
    "#              decoder, encoder_optimizer, decoder_optimizer, criterion)\n",
    "# loss = train(输入变量, 目标变量, 编码器, 解码器, 编码器的优化器, 解码器的优化器, 损失函数)\n",
    "def train(input_variable, target_variable, encoder, decoder, encoder_optimizer,\n",
    "          decoder_optimizer, criterion, max_length=MAX_LENGTH):\n",
    "    \n",
    "    #初始化编码器的隐藏值\n",
    "    encoder_hidden = encoder.initHidden()\n",
    "    \n",
    "    #清空梯度\n",
    "    encoder_optimizer.zero_grad()\n",
    "    decoder_optimizer.zero_grad()\n",
    "    \n",
    "    #计算输入与目标的单词个数\n",
    "    input_length = input_variable.size()[0]\n",
    "    target_length = target_variable.size()[0]\n",
    "\n",
    "    #初始化编码器的输出：最多可能有10个单词，每个单词有256个属性输出\n",
    "    #max_length=10 * encoder.hidden_size=256\n",
    "    encoder_outputs = Variable(torch.zeros(max_length, encoder.hidden_size))\n",
    "    encoder_outputs = encoder_outputs.cuda() if use_cuda else encoder_outputs\n",
    "\n",
    "    loss = 0\n",
    "\n",
    "    #将每个单词进行编码，输出编码矩阵encoder_outputs\n",
    "    for ei in range(input_length):\n",
    "        encoder_output, encoder_hidden = encoder(input_variable[ei], encoder_hidden)\n",
    "        encoder_outputs[ei] = encoder_output[0][0]\n",
    "\n",
    "    decoder_input = Variable(torch.LongTensor([[SOS_token]]))\n",
    "    decoder_input = decoder_input.cuda() if use_cuda else decoder_input\n",
    "\n",
    "    #初始化\n",
    "    decoder_hidden = encoder_hidden\n",
    "\n",
    "    #决定是否要使用教师强迫\n",
    "    use_teacher_forcing = True if random.random() < teacher_forcing_ratio else False\n",
    "\n",
    "    if use_teacher_forcing:\n",
    "        # 教师强制: 将目标作为下一个输入\n",
    "        for di in range(target_length):\n",
    "            decoder_output, decoder_hidden, decoder_attention = decoder(\n",
    "                decoder_input, decoder_hidden, encoder_outputs)\n",
    "            loss += criterion(decoder_output, target_variable[di])\n",
    "            decoder_input = target_variable[di]  # Teacher forcing\n",
    "\n",
    "    else:\n",
    "        # 没有教师强迫: 使用自己的预测作为下一个输入\n",
    "        for di in range(target_length):\n",
    "            #decoder_output：1*2925维的\n",
    "            decoder_output, decoder_hidden, decoder_attention = decoder(\n",
    "                decoder_input, decoder_hidden, encoder_outputs)\n",
    "            topv, topi = decoder_output.data.topk(1)\n",
    "            ni = topi[0][0]\n",
    "\n",
    "            decoder_input = Variable(torch.LongTensor([[ni]]))\n",
    "            decoder_input = decoder_input.cuda() if use_cuda else decoder_input\n",
    "\n",
    "            loss += criterion(decoder_output, target_variable[di])\n",
    "            if ni == EOS_token:\n",
    "                break\n",
    "\n",
    "    loss.backward()\n",
    "\n",
    "    encoder_optimizer.step()\n",
    "    decoder_optimizer.step()\n",
    "\n",
    "    return loss.data.item() / target_length#返回对于目标输出的每个单词的损失"
   ]
  },
  {
   "cell_type": "markdown",
   "metadata": {},
   "source": [
    "根据当前时间和进度百分比,这是一个帮助功能,用于打印经过的时间和估计的剩余时间.\n",
    "\n",
    "\n"
   ]
  },
  {
   "cell_type": "code",
   "execution_count": 23,
   "metadata": {
    "collapsed": false
   },
   "outputs": [],
   "source": [
    "import time\n",
    "import math\n",
    "\n",
    "\n",
    "def asMinutes(s):\n",
    "    m = math.floor(s / 60)\n",
    "    s -= m * 60\n",
    "    return '%dm %ds' % (m, s)\n",
    "\n",
    "\n",
    "def timeSince(since, percent):\n",
    "    now = time.time()\n",
    "    s = now - since\n",
    "    es = s / (percent)\n",
    "    rs = es - s\n",
    "    return '%s (- %s)' % (asMinutes(s), asMinutes(rs))"
   ]
  },
  {
   "cell_type": "markdown",
   "metadata": {},
   "source": [
    "整个训练过程如下所示:\n",
    "\n",
    "-  启动一个计时器\n",
    "-  初始化优化器和标准\n",
    "-  创建一组训练对\n",
    "-  为绘图建空损失数组\n",
    "\n",
    "然后我们多次调用``train``,偶尔打印进度(样本的百分比,到目前为止的时间,估计的时间)和平均损失. \n",
    "\n",
    "\n"
   ]
  },
  {
   "cell_type": "code",
   "execution_count": 24,
   "metadata": {
    "collapsed": false
   },
   "outputs": [],
   "source": [
    "#trainIters(encoder1, attn_decoder1, 75000, print_every=5000)\n",
    "#trainIters(编码器, 注意力解码器, 训练次数, print_every=5000)\n",
    "def trainIters(encoder, decoder, n_iters, print_every=1000, plot_every=100,\n",
    "               learning_rate=0.01):\n",
    "    start = time.time()\n",
    "    plot_losses = []\n",
    "    print_loss_total = 0  # Reset every print_every\n",
    "    plot_loss_total = 0  # Reset every plot_every\n",
    "\n",
    "    #采用随机梯度下降方法为编码器和解码器当中的参数新建一个优化器, 指定要调整的参数和学习率\n",
    "    encoder_optimizer = optim.SGD(encoder.parameters(), lr=learning_rate)\n",
    "    decoder_optimizer = optim.SGD(decoder.parameters(), lr=learning_rate)\n",
    "    \n",
    "    #每次进行随机选择训练对，总共选择75000次，并将其封装为变量\n",
    "    training_pairs = [variablesFromPair(random.choice(pairs))\n",
    "                      for i in range(n_iters)]\n",
    "    \n",
    "    #采用的损失函数\n",
    "    criterion = nn.NLLLoss()\n",
    "\n",
    "    #正式开始训练\n",
    "    for iter in range(1, n_iters + 1):\n",
    "        #为每个训练对划分输入与输出变量\n",
    "        training_pair = training_pairs[iter - 1]\n",
    "        input_variable = training_pair[0]\n",
    "        target_variable = training_pair[1]\n",
    "\n",
    "        #计算当前训练对中每个单词的平均损失\n",
    "        loss = train(input_variable, target_variable, encoder,\n",
    "                     decoder, encoder_optimizer, decoder_optimizer, criterion)\n",
    "\n",
    "        print_loss_total += loss#计算总损失\n",
    "        plot_loss_total += loss#绘图用\n",
    "\n",
    "        #每1000次打印一次：每1000次的平均损失\n",
    "        if iter % print_every == 0:\n",
    "            print_loss_avg = print_loss_total / print_every\n",
    "            print_loss_total = 0\n",
    "            print('%s (%d %d%%) %.4f' % (timeSince(start, iter / n_iters),\n",
    "                                         iter, iter / n_iters * 100, print_loss_avg))\n",
    "\n",
    "        #每100次进行一次绘图：每100次的平均损失\n",
    "        if iter % plot_every == 0:\n",
    "            plot_loss_avg = plot_loss_total / plot_every\n",
    "            plot_losses.append(plot_loss_avg)\n",
    "            plot_loss_total = 0\n",
    "\n",
    "    showPlot(plot_losses)"
   ]
  },
  {
   "cell_type": "markdown",
   "metadata": {},
   "source": [
    "绘制结果\n",
    "----------------\n",
    "\n",
    "使用matplotlib完成绘图, 使用训练时保存的损失值``plot_losses``数组.\n",
    "\n",
    "\n"
   ]
  },
  {
   "cell_type": "code",
   "execution_count": 25,
   "metadata": {
    "collapsed": false
   },
   "outputs": [],
   "source": [
    "import matplotlib.pyplot as plt\n",
    "import matplotlib.ticker as ticker\n",
    "import numpy as np\n",
    "\n",
    "\n",
    "def showPlot(points):\n",
    "    plt.figure()#新建绘画窗口,独立显示绘画的图片\n",
    "    #创建一个子图\n",
    "    fig, ax = plt.subplots()\n",
    "    # 这个定位器会定期发出提示信息\n",
    "    loc = ticker.MultipleLocator(base=0.2)\n",
    "    ax.yaxis.set_major_locator(loc)\n",
    "    plt.plot(points)\n",
    "    plt.show()"
   ]
  },
  {
   "cell_type": "markdown",
   "metadata": {},
   "source": [
    "评估\n",
    "==========\n",
    "\n",
    "评估与训练大部分相同,但没有目标,因此我们只是将解码器的每一步预测反馈给它自身.\n",
    "每当它预测到一个单词时,我们就会将它添加到输出字符串中,并且如果它预测到我们在那里停止的EOS指令.\n",
    "我们还存储解码器的注意力输出以供稍后显示.\n",
    "\n",
    "\n"
   ]
  },
  {
   "cell_type": "code",
   "execution_count": 26,
   "metadata": {
    "collapsed": false
   },
   "outputs": [],
   "source": [
    "#输入编码器、解码器和需要翻译的句子\n",
    "def evaluate(encoder, decoder, sentence, max_length=MAX_LENGTH):\n",
    "    input_variable = variableFromSentence(input_lang, sentence)#句子中每个单词在输入单词库中的索引张量\n",
    "    input_length = input_variable.size()[0]#输入字符的长度\n",
    "    encoder_hidden = encoder.initHidden()#初始化隐藏层的值\n",
    "    #print(input_variable)#打印对要输入的句子转变为变量的编码器的输入\n",
    "    '''\n",
    "     示例：\n",
    "     tensor([[ 119],\n",
    "        [ 115],\n",
    "        [ 249],\n",
    "        [ 757],\n",
    "        [ 101],\n",
    "        [1860],\n",
    "        [   5],\n",
    "        [   1]])\n",
    "    '''\n",
    "\n",
    "    '''编码器'''\n",
    "    #初始化编码器的输出\n",
    "    encoder_outputs = Variable(torch.zeros(max_length, encoder.hidden_size))\n",
    "    encoder_outputs = encoder_outputs.cuda() if use_cuda else encoder_outputs\n",
    "\n",
    "    #开始为句子中的每一个单词进行编码\n",
    "    #依次全部编码\n",
    "    for ei in range(input_length):\n",
    "        encoder_output, encoder_hidden = encoder(input_variable[ei], encoder_hidden)\n",
    "        encoder_outputs[ei] = encoder_outputs[ei] + encoder_output[0][0]\n",
    "    #print(encoder_outputs.size())#打印编码器的输出大小#torch.Size([10, 256])\n",
    "\n",
    "    '''解码器'''\n",
    "    #初始化解码器的输入\n",
    "    decoder_input = Variable(torch.LongTensor([[SOS_token]]))  # SOS\n",
    "    decoder_input = decoder_input.cuda() if use_cuda else decoder_input\n",
    "\n",
    "    #为解码器的隐藏层赋值为编码器的最后一个隐藏层的输出\n",
    "    decoder_hidden = encoder_hidden\n",
    "\n",
    "    #初始化解码器的变量\n",
    "    decoded_words = []\n",
    "    decoder_attentions = torch.zeros(max_length, max_length)#存放解码器的注意力权值\n",
    "\n",
    "    #依次全部解码\n",
    "    for di in range(max_length):\n",
    "        decoder_output, decoder_hidden, decoder_attention = decoder(\n",
    "            decoder_input, decoder_hidden, encoder_outputs)\n",
    "        #print(decoder_output.size())#torch.Size([1, 2925])\n",
    "        decoder_attentions[di] = decoder_attention.data\n",
    "        topv, topi = decoder_output.data.topk(1)\n",
    "        ni = topi[0][0]\n",
    "        #print(type(ni.item()))#int类型\n",
    "\n",
    "        #如果ni == 1，则添加<EOS>标记，结束翻译\n",
    "        if ni == EOS_token:\n",
    "            decoded_words.append('<EOS>')\n",
    "            break\n",
    "        else:\n",
    "            decoded_words.append(output_lang.index2word[ni.item()])\n",
    "            #decoded_words.append(output_lang.index2word[ni])这句话是错的，\n",
    "            #需要将tensor变量变成int类型才能进行索引\n",
    "\n",
    "        decoder_input = Variable(torch.LongTensor([[ni]]))\n",
    "        decoder_input = decoder_input.cuda() if use_cuda else decoder_input\n",
    "\n",
    "    return decoded_words, decoder_attentions[:di + 1]"
   ]
  },
  {
   "cell_type": "code",
   "execution_count": 27,
   "metadata": {
    "collapsed": false
   },
   "outputs": [
    {
     "name": "stdout",
     "output_type": "stream",
     "text": [
      "<class 'int'>\n",
      "!\n"
     ]
    }
   ],
   "source": [
    "#测试，可忽略\n",
    "ni=9\n",
    "print(type(ni))\n",
    "print(output_lang.index2word[ni])\n"
   ]
  },
  {
   "cell_type": "markdown",
   "metadata": {},
   "source": [
    "我们可以从训练集中评估随机的句子并打印出输入,目标和输出以作出一些主观质量判断:\n",
    "\n",
    "\n"
   ]
  },
  {
   "cell_type": "code",
   "execution_count": 28,
   "metadata": {
    "collapsed": false
   },
   "outputs": [],
   "source": [
    "#encoder：编码器；decoder：解码器\n",
    "def evaluateRandomly(encoder, decoder, n=10):\n",
    "    for i in range(n):\n",
    "        pair = random.choice(pairs)#随机选择一个训练对\n",
    "        #打印正确真实的翻译对\n",
    "        print('>', pair[0])\n",
    "        print('=', pair[1])\n",
    "        #进行预测翻译\n",
    "        output_words, attentions = evaluate(encoder, decoder, pair[0])\n",
    "        output_sentence = ' '.join(output_words)\n",
    "        print('<', output_sentence)\n",
    "        print('')"
   ]
  },
  {
   "cell_type": "markdown",
   "metadata": {},
   "source": [
    "训练和评估\n",
    "=======================\n",
    "\n",
    "有了所有这些辅助功能(它看起来像是额外的工作,但它使运行多个实验更容易),\n",
    "我们就立马可以初始化网络并开始培训.\n",
    "\n",
    "请记住输入句子被严重过滤, 对于这个小数据集,我们可以使用包含256个隐藏节点\n",
    "和单个GRU层的相对较小的网络.在MacBook CPU上约40分钟后,我们会得到一些合理的结果.\n",
    "\n",
    ".. Note::\n",
    "   如果你运行这个notebook,你可以训练,打断内核,评估并在以后继续训练. \n",
    "   注释编码器和解码器初始化的行并再次运行 ``trainIters`` .\n",
    "\n",
    "\n"
   ]
  },
  {
   "cell_type": "code",
   "execution_count": 29,
   "metadata": {
    "collapsed": false
   },
   "outputs": [],
   "source": [
    "hidden_size = 256\n",
    "#encoder1只是构建了编码器的网络\n",
    "#输入：input, hidden\n",
    "#返回：output, hidden\n",
    "encoder1 = EncoderRNN(input_lang.n_words, hidden_size)#input_lang.n_words=4489:输入中单词的个数\n",
    "\n",
    "#attn_decoder1构建注意力解码网络\n",
    "#输入：input, hidden, encoder_outputs\n",
    "#返回：output, hidden, attn_weights\n",
    "attn_decoder1 = AttnDecoderRNN(hidden_size, output_lang.n_words, dropout_p=0.1)#output_lang.n_words=2925\n",
    "\n",
    "\n",
    "if use_cuda:\n",
    "    encoder1 = encoder1.cuda()\n",
    "    attn_decoder1 = attn_decoder1.cuda()"
   ]
  },
  {
   "cell_type": "code",
   "execution_count": 30,
   "metadata": {
    "collapsed": false
   },
   "outputs": [
    {
     "name": "stdout",
     "output_type": "stream",
     "text": [
      "4489\n",
      "EncoderRNN(\n",
      "  (embedding): Embedding(4489, 256)\n",
      "  (gru): GRU(256, 256)\n",
      ")\n",
      "AttnDecoderRNN(\n",
      "  (embedding): Embedding(2925, 256)\n",
      "  (attn): Linear(in_features=512, out_features=10, bias=True)\n",
      "  (attn_combine): Linear(in_features=512, out_features=256, bias=True)\n",
      "  (dropout): Dropout(p=0.1)\n",
      "  (gru): GRU(256, 256)\n",
      "  (out): Linear(in_features=256, out_features=2925, bias=True)\n",
      ")\n"
     ]
    }
   ],
   "source": [
    "print(input_lang.n_words)\n",
    "print(encoder1)\n",
    "print(attn_decoder1)"
   ]
  },
  {
   "cell_type": "code",
   "execution_count": 31,
   "metadata": {
    "collapsed": false
   },
   "outputs": [
    {
     "name": "stdout",
     "output_type": "stream",
     "text": [
      "7m 0s (- 98m 10s) (5000 6%) 2.8939\n",
      "14m 41s (- 95m 26s) (10000 13%) 2.3362\n",
      "22m 15s (- 89m 3s) (15000 20%) 2.0340\n",
      "29m 24s (- 80m 53s) (20000 26%) 1.7643\n",
      "36m 4s (- 72m 8s) (25000 33%) 1.5894\n",
      "42m 47s (- 64m 11s) (30000 40%) 1.3834\n",
      "49m 38s (- 56m 43s) (35000 46%) 1.2540\n",
      "56m 16s (- 49m 14s) (40000 53%) 1.1708\n",
      "63m 8s (- 42m 5s) (45000 60%) 1.0260\n",
      "69m 55s (- 34m 57s) (50000 66%) 0.9210\n",
      "76m 46s (- 27m 54s) (55000 73%) 0.8787\n",
      "83m 29s (- 20m 52s) (60000 80%) 0.7660\n",
      "90m 17s (- 13m 53s) (65000 86%) 0.7176\n",
      "97m 2s (- 6m 55s) (70000 93%) 0.6877\n",
      "104m 34s (- 0m 0s) (75000 100%) 0.6145\n"
     ]
    },
    {
     "data": {
      "text/plain": [
       "<matplotlib.figure.Figure at 0x7f1155b3e208>"
      ]
     },
     "metadata": {},
     "output_type": "display_data"
    },
    {
     "data": {
      "image/png": "[encoded data removed]",
      "text/plain": [
       "<matplotlib.figure.Figure at 0x7f117d253e80>"
      ]
     },
     "metadata": {},
     "output_type": "display_data"
    }
   ],
   "source": [
    "trainIters(encoder1, attn_decoder1, 75000, print_every=5000)"
   ]
  },
  {
   "cell_type": "code",
   "execution_count": 32,
   "metadata": {
    "collapsed": false,
    "scrolled": true
   },
   "outputs": [
    {
     "name": "stdout",
     "output_type": "stream",
     "text": [
      "> tu es agitee .\n",
      "= you re restless .\n",
      "< you re fabulous . <EOS>\n",
      "\n",
      "> fais ce qu il te plait .\n",
      "= you are welcome to do anything you like .\n",
      "< you are looking forward to you you . <EOS>\n",
      "\n",
      "> vous etes tout a fait attirant .\n",
      "= you re quite attractive .\n",
      "< you re quite attractive . <EOS>\n",
      "\n",
      "> tu es a la fois mignon et gentil .\n",
      "= you are both pretty and kind .\n",
      "< you are both pretty and kind . <EOS>\n",
      "\n",
      "> c est une fille mais elle est brave .\n",
      "= she s a girl but she s brave .\n",
      "< she s a real nice . she is <EOS>\n",
      "\n",
      "> je suis heureux que tu aimes mes amis .\n",
      "= i m glad you liked my friends .\n",
      "< i am glad you liked my friends . <EOS>\n",
      "\n",
      "> il n est pas idiot .\n",
      "= he is no fool .\n",
      "< he is not fool . <EOS>\n",
      "\n",
      "> j ai faim !\n",
      "= i m hungry .\n",
      "< i m hungry ! <EOS>\n",
      "\n",
      "> tu es libre de sortir .\n",
      "= you are free to go out .\n",
      "< you are free to go out . <EOS>\n",
      "\n",
      "> je suis ami avec beaucoup d entre eux .\n",
      "= i m friends with a lot of them .\n",
      "< i m friends with a lot of . <EOS>\n",
      "\n"
     ]
    }
   ],
   "source": [
    "evaluateRandomly(encoder1, attn_decoder1)"
   ]
  },
  {
   "cell_type": "markdown",
   "metadata": {},
   "source": [
    "可视化注意力\n",
    "---------------------\n",
    "\n",
    "注意力机制的一个有用特性是其高度可解释的输出. \n",
    "由于它用于对输入序列的特定编码器输出进行加权,因此我们可以想象在每个时间步骤中查看网络最关注的位置.\n",
    "\n",
    "您可以简单地运行 ``plt.matshow(attentions)``,将注意力输出显示为矩阵,\n",
    "其中列是输入步骤,行是输出步骤.\n",
    "\n",
    "\n"
   ]
  },
  {
   "cell_type": "code",
   "execution_count": 33,
   "metadata": {
    "collapsed": false
   },
   "outputs": [
    {
     "data": {
      "image/png": "[encoded data removed]",
      "text/plain": [
       "<matplotlib.figure.Figure at 0x7f114b3dccc0>"
      ]
     },
     "metadata": {},
     "output_type": "display_data"
    }
   ],
   "source": [
    "output_words, attentions = evaluate(\n",
    "    encoder1, attn_decoder1, \"je suis trop froid .\")\n",
    "plt.matshow(attentions.numpy())\n",
    "plt.show()"
   ]
  },
  {
   "cell_type": "markdown",
   "metadata": {},
   "source": [
    "为了获得更好的观看体验,我们将额外添加轴和标签:\n",
    "\n",
    "\n"
   ]
  },
  {
   "cell_type": "code",
   "execution_count": 34,
   "metadata": {
    "collapsed": false
   },
   "outputs": [
    {
     "name": "stdout",
     "output_type": "stream",
     "text": [
      "input = elle a cinq ans de moins que moi .\n",
      "output = she s five years younger than me . <EOS>\n"
     ]
    },
    {
     "data": {
      "image/png": "[encoded data removed]",
      "text/plain": [
       "<matplotlib.figure.Figure at 0x7f1149c75860>"
      ]
     },
     "metadata": {},
     "output_type": "display_data"
    },
    {
     "name": "stdout",
     "output_type": "stream",
     "text": [
      "input = elle est trop petit .\n",
      "output = she s too . <EOS>\n"
     ]
    },
    {
     "data": {
      "image/png": "[encoded data removed]",
      "text/plain": [
       "<matplotlib.figure.Figure at 0x7f114b3fcb38>"
      ]
     },
     "metadata": {},
     "output_type": "display_data"
    },
    {
     "name": "stdout",
     "output_type": "stream",
     "text": [
      "input = je ne crains pas de mourir .\n",
      "output = i m not scared of dying . <EOS>\n"
     ]
    },
    {
     "data": {
      "image/png": "[encoded data removed]",
      "text/plain": [
       "<matplotlib.figure.Figure at 0x7f114b3ef9b0>"
      ]
     },
     "metadata": {},
     "output_type": "display_data"
    },
    {
     "name": "stdout",
     "output_type": "stream",
     "text": [
      "input = c est un jeune directeur plein de talent .\n",
      "output = he s a promising young . <EOS>\n"
     ]
    },
    {
     "data": {
      "image/png": "[encoded data removed]",
      "text/plain": [
       "<matplotlib.figure.Figure at 0x7f1148b238d0>"
      ]
     },
     "metadata": {},
     "output_type": "display_data"
    }
   ],
   "source": [
    "def showAttention(input_sentence, output_words, attentions):\n",
    "    # 用颜色条设置图形\n",
    "    fig = plt.figure()\n",
    "    ax = fig.add_subplot(111)\n",
    "    cax = ax.matshow(attentions.numpy(), cmap='bone')\n",
    "    fig.colorbar(cax)\n",
    "\n",
    "    # 设置轴\n",
    "    ax.set_xticklabels([''] + input_sentence.split(' ') +\n",
    "                       ['<EOS>'], rotation=90)\n",
    "    ax.set_yticklabels([''] + output_words)\n",
    "\n",
    "    # 在每个打勾处显示标签\n",
    "    ax.xaxis.set_major_locator(ticker.MultipleLocator(1))\n",
    "    ax.yaxis.set_major_locator(ticker.MultipleLocator(1))\n",
    "\n",
    "    plt.show()\n",
    "\n",
    "\n",
    "def evaluateAndShowAttention(input_sentence):\n",
    "    output_words, attentions = evaluate(\n",
    "        encoder1, attn_decoder1, input_sentence)\n",
    "    print('input =', input_sentence)\n",
    "    print('output =', ' '.join(output_words))\n",
    "    showAttention(input_sentence, output_words, attentions)\n",
    "    \n",
    "evaluateAndShowAttention(\"elle a cinq ans de moins que moi .\")\n",
    "\n",
    "evaluateAndShowAttention(\"elle est trop petit .\")\n",
    "\n",
    "evaluateAndShowAttention(\"je ne crains pas de mourir .\")\n",
    "\n",
    "evaluateAndShowAttention(\"c est un jeune directeur plein de talent .\")"
   ]
  },
  {
   "cell_type": "code",
   "execution_count": 35,
   "metadata": {
    "collapsed": false
   },
   "outputs": [
    {
     "name": "stdout",
     "output_type": "stream",
     "text": [
      "part_random: ['j en suis content .', 'i m happy with that .']\n",
      "input = j en suis content .\n",
      "output = i m happy with that . <EOS>\n"
     ]
    },
    {
     "data": {
      "image/png": "[encoded data removed]",
      "text/plain": [
       "<matplotlib.figure.Figure at 0x7f114bf36208>"
      ]
     },
     "metadata": {},
     "output_type": "display_data"
    }
   ],
   "source": [
    "#随机挑选一个翻译对进行测试\n",
    "part_random=random.choice(pairs)\n",
    "print('part_random:',part_random)\n",
    "evaluateAndShowAttention(part_random[0])"
   ]
  },
  {
   "cell_type": "markdown",
   "metadata": {},
   "source": [
    "练习\n",
    "=========\n",
    "\n",
    "-  尝试使用不同的数据集\n",
    "\n",
    "   -  另一种语言对\n",
    "   -  人 → 机器 (例如. IOT 命令)\n",
    "   -  聊天 → 响应\n",
    "   -  问题 → 回答\n",
    "\n",
    "-  用预先训练的词嵌入替换嵌入,例如word2vec或GloVe\n",
    "-  尝试更多图层,更多隐藏单位和更多句子. 比较训练时间和结果.\n",
    "-  如果您使用的翻译文件对中有两个相同的短语(``I am test \\t I am test``),\n",
    "   您可以使用它作为自动编码器.尝试这个:\n",
    "   -  训练自编码器\n",
    "   -  只保存编码器网络\n",
    "   -  从那里训练一个新的解码器进行翻译\n",
    "\n",
    "\n"
   ]
  }
 ],
 "metadata": {
  "anaconda-cloud": {},
  "kernelspec": {
   "display_name": "Python [conda env:deeplearning]",
   "language": "python",
   "name": "conda-env-deeplearning-py"
  },
  "language_info": {
   "codemirror_mode": {
    "name": "ipython",
    "version": 3
   },
   "file_extension": ".py",
   "mimetype": "text/x-python",
   "name": "python",
   "nbconvert_exporter": "python",
   "pygments_lexer": "ipython3",
   "version": "3.5.4"
  }
 },
 "nbformat": 4,
 "nbformat_minor": 0
}
