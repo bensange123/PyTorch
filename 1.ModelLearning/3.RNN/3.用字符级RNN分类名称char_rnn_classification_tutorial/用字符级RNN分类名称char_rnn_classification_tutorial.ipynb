{
 "cells": [
  {
   "cell_type": "code",
   "execution_count": 1,
   "metadata": {
    "collapsed": false
   },
   "outputs": [],
   "source": [
    "%matplotlib inline"
   ]
  },
  {
   "cell_type": "markdown",
   "metadata": {},
   "source": [
    "\n",
    "用字符级RNN分类名称\n",
    "*********************************************\n",
    "**作者**: `Sean Robertson <https://github.com/spro/practical-pytorch>`_\n",
    "\n",
    "我们将建立和训练一个基本的字符级RNN进行分类单词. 字符级别的RNN将单词读为一系列字符 - 在每个步骤输出一个预测和“隐藏状态”,\n",
    "将先前的隐藏状态作为下一步的输入. 我们采取最后的预测作为输出,即该单词属于哪一类.\n",
    "\n",
    "具体来说,我们将用18种语言的几千个姓氏作为训练集并根据拼写预测名称来自哪种语言:\n",
    "\n",
    "::\n",
    "\n",
    "    $ python predict.py Hinton\n",
    "    (-0.47) Scottish\n",
    "    (-1.52) English\n",
    "    (-3.57) Irish\n",
    "\n",
    "    $ python predict.py Schmidhuber\n",
    "    (-0.19) German\n",
    "    (-2.48) Czech\n",
    "    (-2.68) Dutch\n",
    "\n",
    "\n",
    "**推荐阅读:**\n",
    "\n",
    "假设你至少已经安装了PyTorch,知道Python和了解张量:\n",
    "\n",
    "-  http://pytorch.org/ 安装步骤\n",
    "-  :doc:`/beginner/deep_learning_60min_blitz` 大体了解PyTorch\n",
    "-  :doc:`/beginner/pytorch_with_examples` 深入概括\n",
    "-  :doc:`/beginner/former_torchies_tutorial` 假设你是前Lua Torch用户\n",
    "\n",
    "了解RNN及其工作方式也很有用:\n",
    "\n",
    "-  `递归神经网络的不合理有效性 <http://karpathy.github.io/2015/05/21/rnn-effectiveness/>`__\n",
    "   展示了一堆真实生活的例子\n",
    "-  `理解LSTM网络 <http://colah.github.io/posts/2015-08-Understanding-LSTMs/>`__\n",
    "   是关于LSTM的具体内容,但也包含有关RNN的一般信息\n",
    "\n",
    "准备数据\n",
    "==================\n",
    "\n",
    ".. 注意::\n",
    "   从这里下载数据\n",
    "   `here <https://download.pytorch.org/tutorial/data.zip>`_\n",
    "   并将其解压到当前目录.\n",
    "\n",
    "在 ``data/names`` 目录中包含18个名为as的文本文件 \"[Language].txt\" .\n",
    "每个文件都包含一堆名称,每个名称一行大多是罗马化（但我们仍然需要从Unicode转换为ASCII）.\n",
    "\n",
    "我们最终会得到每种语言的名称列表字典 ``{language: [names ...]}``  通用变量“类别”和“行”\n",
    "（在我们的例子中用于语言和名称）用于以后的扩展性.\n",
    "\n",
    "\n"
   ]
  },
  {
   "cell_type": "code",
   "execution_count": 2,
   "metadata": {
    "collapsed": false
   },
   "outputs": [
    {
     "name": "stdout",
     "output_type": "stream",
     "text": [
      "['data/names/Vietnamese.txt', 'data/names/German.txt', 'data/names/Dutch.txt', 'data/names/Scottish.txt', 'data/names/Korean.txt', 'data/names/Russian.txt', 'data/names/Japanese.txt', 'data/names/Czech.txt', 'data/names/English.txt', 'data/names/Polish.txt', 'data/names/Arabic.txt', 'data/names/Chinese.txt', 'data/names/French.txt', 'data/names/Spanish.txt', 'data/names/Italian.txt', 'data/names/Portuguese.txt', 'data/names/Greek.txt', 'data/names/Irish.txt']\n",
      "all_letters: abcdefghijklmnopqrstuvwxyzABCDEFGHIJKLMNOPQRSTUVWXYZ .,;'\n",
      "n_letters = 57\n"
     ]
    }
   ],
   "source": [
    "#Python提供了__future__模块，把下一个新版本的特性导入到当前版本，\n",
    "#于是我们就可以在当前版本中测试一些新版本的特性。也就是说新版本中的\n",
    "#内容也可以在就版本中使用https://www.liaoxuefeng.com/wiki/001374738125095c955c1e6d8bb493182103fac9270762a000/001386820023084e5263fe54fde4e4e8616597058cc4ba1000\n",
    "from __future__ import unicode_literals, print_function, division\n",
    "from io import open\n",
    "import glob\n",
    "\n",
    "def findFiles(path): return glob.glob(path)\n",
    "\n",
    "print(findFiles('data/names/*.txt'))\n",
    "\n",
    "import unicodedata\n",
    "import string\n",
    "\n",
    "all_letters = string.ascii_letters + \" .,;'\"\n",
    "n_letters = len(all_letters)#表示所有ASCII编码的个数\n",
    "\n",
    "print('all_letters:',all_letters)\n",
    "print('n_letters =',n_letters)\n"
   ]
  },
  {
   "cell_type": "code",
   "execution_count": 3,
   "metadata": {
    "collapsed": false
   },
   "outputs": [
    {
     "name": "stdout",
     "output_type": "stream",
     "text": [
      "Slusarski\n"
     ]
    }
   ],
   "source": [
    "# 将 Unicode (Unicode编码(十六进制))字符串转换为纯 ASCII 编码, 这里感谢 http://stackoverflow.com/a/518232/2809427\n",
    "def unicodeToAscii(s):\n",
    "    return ''.join(\n",
    "        c for c in unicodedata.normalize('NFD', s)\n",
    "        if unicodedata.category(c) != 'Mn'\n",
    "        and c in all_letters\n",
    "    )\n",
    "\n",
    "print(unicodeToAscii('Ślusàrski'))"
   ]
  },
  {
   "cell_type": "code",
   "execution_count": 4,
   "metadata": {
    "collapsed": false
   },
   "outputs": [
    {
     "name": "stdout",
     "output_type": "stream",
     "text": [
      "all_categories:\n",
      " ['Vietnamese', 'German', 'Dutch', 'Scottish', 'Korean', 'Russian', 'Japanese', 'Czech', 'English', 'Polish', 'Arabic', 'Chinese', 'French', 'Spanish', 'Italian', 'Portuguese', 'Greek', 'Irish']\n",
      "n_categories = 18\n"
     ]
    }
   ],
   "source": [
    "# 构建category_lines字典, 每种语言的名称列表\n",
    "category_lines = {}#是以一个字典形式进行存放的：种类名称+该种类下的内容\n",
    "all_categories = []#存放语言类别的名称\n",
    "\n",
    "# 读取一个文件并分成几行\n",
    "def readLines(filename):\n",
    "    lines = open(filename, encoding='utf-8').read().strip().split('\\n')\n",
    "    return [unicodeToAscii(line) for line in lines]\n",
    "\n",
    "for filename in findFiles('data/names/*.txt'):\n",
    "    category = filename.split('/')[-1].split('.')[0]\n",
    "    all_categories.append(category)\n",
    "    lines = readLines(filename)\n",
    "    category_lines[category] = lines\n",
    "\n",
    "n_categories = len(all_categories)\n",
    "#print(category_lines)\n",
    "print('all_categories:\\n',all_categories)\n",
    "print('n_categories =',n_categories)"
   ]
  },
  {
   "cell_type": "markdown",
   "metadata": {},
   "source": [
    "现在我们有 ``category_lines``, 这是一个映射每个类别的字典\n",
    "(语言) 到行列表 (名称). 我们也跟踪\n",
    "``all_categories`` (只是一个语言列表) 和 ``n_categories`` 为以后做参考.\n",
    "\n",
    "\n"
   ]
  },
  {
   "cell_type": "code",
   "execution_count": 5,
   "metadata": {
    "collapsed": false
   },
   "outputs": [
    {
     "name": "stdout",
     "output_type": "stream",
     "text": [
      "['Abandonato', 'Abatangelo', 'Abatantuono', 'Abate', 'Abategiovanni']\n"
     ]
    }
   ],
   "source": [
    "#print(category_lines)\n",
    "print(category_lines['Italian'][:5])"
   ]
  },
  {
   "cell_type": "markdown",
   "metadata": {},
   "source": [
    "将名字转化为张量\n",
    "--------------------------\n",
    "\n",
    "现在我们已经组织了所有的名字,我们需要将它们变成张量以便使用它们.\n",
    "\n",
    "为了表示单个字母,我们使用大小为 ``<1 x n_letters>`` 的\"单热矢量\".\n",
    "除了当前字母的索引处的1以外,单热矢量剩余填充0, e.g. ``\"b\" = <0 1 0 0 0 ...>``.\n",
    "\n",
    "为了说出一个词,我们将其中的一部分加入到二维矩阵中\n",
    "``<line_length x 1 x n_letters>``.\n",
    "\n",
    "额外的1维度是因为PyTorch假定所有内容都是批量的 - 我们在这里只使用1的批量大小.\n",
    "\n",
    "\n"
   ]
  },
  {
   "cell_type": "code",
   "execution_count": 6,
   "metadata": {
    "collapsed": false
   },
   "outputs": [
    {
     "name": "stdout",
     "output_type": "stream",
     "text": [
      "35\n",
      "tensor([[0., 0., 0., 0., 0., 0., 0., 0., 0., 0., 0., 0., 0., 0., 0., 0., 0., 0.,\n",
      "         0., 0., 0., 0., 0., 0., 0., 0., 0., 0., 0., 0., 0., 0., 0., 0., 0., 1.,\n",
      "         0., 0., 0., 0., 0., 0., 0., 0., 0., 0., 0., 0., 0., 0., 0., 0., 0., 0.,\n",
      "         0., 0., 0.]])\n"
     ]
    }
   ],
   "source": [
    "import torch\n",
    "\n",
    "# 从all_letters中查找字母索引, e.g. \"a\" = 0\n",
    "def letterToIndex(letter):\n",
    "    return all_letters.find(letter)\n",
    "\n",
    "# 只是为了演示, 把一个字母变成一个 <1 x n_letters> 张量\n",
    "def letterToTensor(letter):\n",
    "    tensor = torch.zeros(1, n_letters)\n",
    "    tensor[0][letterToIndex(letter)] = 1\n",
    "    return tensor\n",
    "print(letterToIndex('J'))\n",
    "print(letterToTensor('J'))"
   ]
  },
  {
   "cell_type": "code",
   "execution_count": 7,
   "metadata": {
    "collapsed": false
   },
   "outputs": [
    {
     "name": "stdout",
     "output_type": "stream",
     "text": [
      "torch.Size([5, 1, 57])\n"
     ]
    }
   ],
   "source": [
    "# 把一行变成一个 <line_length x 1 x n_letters>,\n",
    "# 或一批单热字符向量\n",
    "def lineToTensor(line):\n",
    "    tensor = torch.zeros(len(line), 1, n_letters)#torch.Size([5, 1, 57])\n",
    "    for li, letter in enumerate(line):\n",
    "        tensor[li][0][letterToIndex(letter)] = 1\n",
    "    return tensor\n",
    "\n",
    "print(lineToTensor('Jones').size())\n",
    "#print(lineToTensor('Jones'))"
   ]
  },
  {
   "cell_type": "markdown",
   "metadata": {},
   "source": [
    "创建网络\n",
    "====================\n",
    "\n",
    "在autograd之前, 在Torch中创建一个循环神经网络涉及到克隆几个步骤一个图层的参数.\n",
    "图层保持隐藏状态和渐变, 现在完全由图形本身处理.\n",
    "这意味着您可以以非常“纯粹”的方式实现RNN, 作为常规的前馈层.\n",
    "\n",
    "这个RNN模块 (大部分都是复制 `the PyTorch for Torch users tutorial <http://pytorch.org/tutorials/beginner/former_torchies/nn_tutorial.html#example-2-recurrent-net>`__)\n",
    "只有2个线性层可以在输入和隐藏状态下运行, 在输出之后有一个LogSoftmax层.\n",
    "\n",
    ".. figure:: https://i.imgur.com/Z2xbySO.png\n",
    "   :alt:\n",
    "\n",
    "\n",
    "\n"
   ]
  },
  {
   "cell_type": "code",
   "execution_count": 8,
   "metadata": {
    "collapsed": false
   },
   "outputs": [
    {
     "name": "stdout",
     "output_type": "stream",
     "text": [
      "n_letters = 57, n_hidden = 128, n_letters + n_hidden = 185\n",
      " RNN(\n",
      "  (i2h1): Linear(in_features=185, out_features=128, bias=True)\n",
      "  (i2o1): Linear(in_features=185, out_features=18, bias=True)\n",
      "  (i2h2): Linear(in_features=146, out_features=128, bias=True)\n",
      "  (i2o2): Linear(in_features=146, out_features=18, bias=True)\n",
      "  (softmax): LogSoftmax()\n",
      ")\n"
     ]
    }
   ],
   "source": [
    "'''\n",
    "这种表述和下面的RNN构建方法是一致的。对比：\n",
    "rnn = RNN()\n",
    "y = rnn.step(x) # x is an input vector, y is the RNN's output vector.\n",
    "class RNN:def step(self, x):# update the hidden state\n",
    "    self.h = np.tanh(np.dot(self.W_hh, self.h) + np.dot(self.W_xh, x))\n",
    "    # compute the output vector\n",
    "    y = np.dot(self.W_hy, self.h)\n",
    "    return y\n",
    "\n",
    "'''\n",
    "import torch.nn as nn\n",
    "from torch.autograd import Variable\n",
    "\n",
    "class RNN(nn.Module):\n",
    "    def __init__(self, input_size, hidden_size, output_size):\n",
    "        super(RNN, self).__init__()#不必纠结\n",
    "\n",
    "        self.hidden_size = hidden_size\n",
    "        # 仿射层/全连接层: y = Wx + b\n",
    "        #第一层\n",
    "        self.i2h1 = nn.Linear(input_size + hidden_size, hidden_size)\n",
    "        self.i2o1 = nn.Linear(input_size + hidden_size, output_size)\n",
    "        #第二层\n",
    "        self.i2h2 = nn.Linear(output_size + hidden_size, hidden_size)\n",
    "        self.i2o2 = nn.Linear(output_size + hidden_size, output_size)\n",
    "        \n",
    "        # 使用激活函数LogSoftmax()\n",
    "        self.softmax = nn.LogSoftmax(dim=1)\n",
    "\n",
    "    def forward(self, input, hidden):\n",
    "        #第一层\n",
    "        combined = torch.cat((input, hidden), 1)#横向连接\n",
    "        hidden = self.i2h1(combined)\n",
    "        output = self.i2o1(combined)\n",
    "        #第二层\n",
    "        combined = torch.cat((output, hidden), 1)#横向连接\n",
    "        hidden = self.i2h2(combined)\n",
    "        output = self.i2o2(combined)\n",
    "        \n",
    "        output = self.softmax(output)\n",
    "        return output, hidden\n",
    "\n",
    "    def initHidden(self):\n",
    "        return Variable(torch.zeros(1, self.hidden_size))#初始化隐藏层\n",
    "\n",
    "n_hidden = 128\n",
    "rnn = RNN(n_letters, n_hidden, n_categories)\n",
    "print('n_letters = 57, n_hidden = 128, n_letters + n_hidden = 185\\n',rnn)"
   ]
  },
  {
   "cell_type": "code",
   "execution_count": 9,
   "metadata": {
    "collapsed": false
   },
   "outputs": [
    {
     "name": "stdout",
     "output_type": "stream",
     "text": [
      "tensor([[1., 1., 1.],\n",
      "        [1., 1., 1.],\n",
      "        [1., 1., 1.],\n",
      "        [1., 1., 1.]])\n",
      "tensor([[1., 1., 1., 1., 1., 1.],\n",
      "        [1., 1., 1., 1., 1., 1.]])\n"
     ]
    }
   ],
   "source": [
    "'''\n",
    "其中 seq表示要连接的两个序列，以元组的形式给出，例如:seq=(a,b),  a,b 为两个可以连接的序列\n",
    "dim 表示以哪个维度连接，dim=1, 横向连接\n",
    "                     dim=0,纵向连接\n",
    "'''\n",
    "a = torch.ones([2,3])\n",
    "b = torch.ones([2,3])\n",
    "print(torch.cat([a,b],0))\n",
    "print(torch.cat([a,b],1))"
   ]
  },
  {
   "cell_type": "markdown",
   "metadata": {},
   "source": [
    "为了运行这个网络的一个步骤, 我们需要传递一个输入 (在我们的例子中是当前字母的张量) 和一个先前的隐藏状态 (我们首先初始化为零) .\n",
    "我们将返回输出 (每种语言的概率) 和下一个隐藏状态 (我们为下一步保留).\n",
    "### 请记住, PyTorch模块对变量进行操作, 而不是直接对张量进行操作.\n",
    "\n",
    "## 输入并进行初始化"
   ]
  },
  {
   "cell_type": "code",
   "execution_count": 10,
   "metadata": {
    "collapsed": false
   },
   "outputs": [
    {
     "name": "stdout",
     "output_type": "stream",
     "text": [
      "torch.Size([1, 57])\n"
     ]
    }
   ],
   "source": [
    "#一个输入 (在我们的例子中是当前字母的张量) \n",
    "input = Variable(letterToTensor('A'))\n",
    "print(input.size())\n",
    "#一个先前的隐藏状态 (我们首先初始化为零)\n",
    "hidden = Variable(torch.zeros(1, n_hidden))\n",
    "output, next_hidden = rnn(input, hidden)"
   ]
  },
  {
   "cell_type": "markdown",
   "metadata": {},
   "source": [
    "为了提高效率我们不希望为每一步创建一个新的张量,\n",
    "所以我们使用 ``lineToTensor`` 而不是 ``letterToTensor`` 并使用切片.\n",
    "这可以通过预先计算批次的张量进一步优化.\n",
    "\n",
    "\n"
   ]
  },
  {
   "cell_type": "code",
   "execution_count": 11,
   "metadata": {
    "collapsed": false
   },
   "outputs": [
    {
     "name": "stdout",
     "output_type": "stream",
     "text": [
      "None\n",
      "input[0]= tensor([[0., 0., 0., 0., 0., 0., 0., 0., 0., 0., 0., 0., 0., 0., 0., 0., 0., 0.,\n",
      "         0., 0., 0., 0., 0., 0., 0., 0., 1., 0., 0., 0., 0., 0., 0., 0., 0., 0.,\n",
      "         0., 0., 0., 0., 0., 0., 0., 0., 0., 0., 0., 0., 0., 0., 0., 0., 0., 0.,\n",
      "         0., 0., 0.]]) torch.Size([1, 57])\n",
      "torch.Size([1, 18]) torch.Size([1, 128]) \n",
      " tensor([[-2.0360, -2.8737, -2.7530, -3.2037, -2.7812, -2.8076, -3.2934, -2.8101,\n",
      "         -3.0562, -3.3348, -2.8664, -3.1309, -3.2035, -3.1801, -2.8658, -3.4855,\n",
      "         -2.4845, -2.9458]], grad_fn=<LogSoftmaxBackward>) tensor([[ 0.5211,  0.2601, -0.5938,  0.3972, -0.2108,  0.4019,  0.0255,  0.2039,\n",
      "         -0.5511, -0.5814, -0.1397, -0.5526, -0.0478, -0.0679,  1.0909,  0.1502,\n",
      "         -0.0100, -0.1069, -0.2922, -0.0494, -0.1914, -0.5373,  0.4025,  0.6850,\n",
      "          0.1242, -0.6177, -0.3240,  0.2646, -0.0719, -0.2392, -0.2103, -0.3215,\n",
      "         -0.2972,  0.3355, -0.4715,  0.0190,  0.3030, -0.0861, -0.2849,  0.3201,\n",
      "          0.4090,  0.1206, -0.1795, -0.6561,  0.5756, -0.6531, -0.3232, -0.6986,\n",
      "         -0.1914,  0.0304,  0.6416,  0.2846,  0.3045,  0.0879,  0.0480,  0.4943,\n",
      "          0.5314,  0.2015,  0.0150, -0.3937, -0.1514, -0.2062,  0.0121, -0.3649,\n",
      "         -0.4073, -0.3408,  0.2853,  0.5289,  0.0352,  0.0382, -0.2020,  0.3860,\n",
      "          0.0800,  0.0500,  0.2022,  0.2769, -0.4458, -0.5175, -0.4031,  0.1384,\n",
      "          0.2722,  0.0288,  0.3003,  0.0265, -0.7537, -0.0331,  0.1072, -0.1501,\n",
      "         -0.2755, -0.4062,  0.0492, -0.1219,  0.4863, -0.2087, -0.3324, -0.1450,\n",
      "          0.5053,  0.3289,  0.3306,  0.8364, -0.2603, -0.2392,  0.0869,  0.3714,\n",
      "         -0.3989, -0.6888,  0.3251, -0.0206, -0.3498,  0.2446,  0.3923,  0.3431,\n",
      "         -0.0815, -0.6448, -0.6385,  0.3154, -0.0554,  0.5694,  0.0406, -0.0171,\n",
      "         -0.0383,  0.3660, -0.1415, -0.2223, -0.3285,  0.5300, -0.5977, -0.4951]],\n",
      "       grad_fn=<ThAddmmBackward>)\n"
     ]
    }
   ],
   "source": [
    "input = Variable(lineToTensor('Albert'))#将整个名字转化为one-hot编码\n",
    "print(input.grad_fn)#None，查看变量的梯度\n",
    "print('input[0]=',input[0],input[0].size())#打印第一个字母‘A’的one-hot编码及大小\n",
    "hidden = Variable(torch.zeros(1, n_hidden))#初始化隐藏层的数值\n",
    "#串联第一个RNN\n",
    "output, hidden = rnn(input[0], hidden) \n",
    "\n",
    "#串联第二个RNN\n",
    "rnn = RNN(output.size()[1], n_hidden, n_categories)#更改RNN的输入大小，以便将上一次的输出作为当前的输入\n",
    "output, hidden = rnn(output, hidden)\n",
    "print(output.size(),hidden.size(),'\\n',output,hidden)\n",
    "\n",
    "rnn = RNN(n_letters, n_hidden, n_categories)#重新更改为原来的RNN，不影响之后原来程序的运行"
   ]
  },
  {
   "cell_type": "markdown",
   "metadata": {},
   "source": [
    "正如你所看到的输出是一个 ``<1 x n_categories>`` 张量,\n",
    "每个项目都是该类别的可能性 (越高越有可能).\n",
    "\n",
    "\n"
   ]
  },
  {
   "cell_type": "markdown",
   "metadata": {},
   "source": [
    "训练\n",
    "========\n",
    "准备训练\n",
    "----------------------\n",
    "\n",
    "在训练之前,我们应该做一些辅助功能.\n",
    "首先是解释网络的输出, 我们知道这是每个类别的可能性.\n",
    "我么可以使用 ``Tensor.topk`` 得到最大价值的指数:\n",
    "\n",
    "\n"
   ]
  },
  {
   "cell_type": "code",
   "execution_count": 12,
   "metadata": {
    "collapsed": false
   },
   "outputs": [
    {
     "name": "stdout",
     "output_type": "stream",
     "text": [
      "('Vietnamese', tensor(0))\n"
     ]
    }
   ],
   "source": [
    "def categoryFromOutput(output):\n",
    "    top_n, top_i = output.data.topk(1) # 返回最大的那个数及下标 Tensor out of Variable with .data\n",
    "    category_i = top_i[0][0]\n",
    "    return all_categories[category_i], category_i\n",
    "\n",
    "print(categoryFromOutput(output))"
   ]
  },
  {
   "cell_type": "code",
   "execution_count": 13,
   "metadata": {
    "collapsed": false
   },
   "outputs": [
    {
     "name": "stdout",
     "output_type": "stream",
     "text": [
      "output.data:\n",
      " tensor([[-2.0360, -2.8737, -2.7530, -3.2037, -2.7812, -2.8076, -3.2934, -2.8101,\n",
      "         -3.0562, -3.3348, -2.8664, -3.1309, -3.2035, -3.1801, -2.8658, -3.4855,\n",
      "         -2.4845, -2.9458]])\n",
      "output.data.sort():\n",
      " (tensor([[-3.4855, -3.3348, -3.2934, -3.2037, -3.2035, -3.1801, -3.1309, -3.0562,\n",
      "         -2.9458, -2.8737, -2.8664, -2.8658, -2.8101, -2.8076, -2.7812, -2.7530,\n",
      "         -2.4845, -2.0360]]), tensor([[15,  9,  6,  3, 12, 13, 11,  8, 17,  1, 10, 14,  7,  5,  4,  2, 16,  0]]))\n",
      "\n",
      " (tensor([[-2.0360, -2.4845, -2.7530]]), tensor([[ 0, 16,  2]]))\n"
     ]
    }
   ],
   "source": [
    "print('output.data:\\n',output.data)\n",
    "print('output.data.sort():\\n',output.data.sort())\n",
    "print('\\n',output.data.topk(3))"
   ]
  },
  {
   "cell_type": "markdown",
   "metadata": {},
   "source": [
    "我们也希望能够快速获得训练示例 (名称及其语言):\n",
    "\n",
    "\n"
   ]
  },
  {
   "cell_type": "code",
   "execution_count": 14,
   "metadata": {
    "collapsed": false
   },
   "outputs": [
    {
     "name": "stdout",
     "output_type": "stream",
     "text": [
      "category = Japanese / line = Yasuda / category_tensor = tensor([6])\n",
      "category = Vietnamese / line = Pho / category_tensor = tensor([0])\n",
      "category = Chinese / line = Ying / category_tensor = tensor([11])\n",
      "category = Japanese / line = Kyubei / category_tensor = tensor([6])\n",
      "category = German / line = Maas / category_tensor = tensor([1])\n",
      "category = German / line = Reier / category_tensor = tensor([1])\n",
      "category = Dutch / line = Houte / category_tensor = tensor([2])\n",
      "category = Chinese / line = Jiang / category_tensor = tensor([11])\n",
      "category = Italian / line = Acerbi / category_tensor = tensor([14])\n",
      "category = Greek / line = Demarchis / category_tensor = tensor([16])\n"
     ]
    }
   ],
   "source": [
    "import random\n",
    "\n",
    "def randomChoice(l):\n",
    "    return l[random.randint(0, len(l) - 1)]#随即返回0到len(l)-1之间的整数\n",
    "\n",
    "def randomTrainingExample():\n",
    "    category = randomChoice(all_categories)#随机选择18个种类中的一个\n",
    "    line = randomChoice(category_lines[category])#随机选择该种类下的一个名字\n",
    "    category_tensor = Variable(torch.LongTensor([all_categories.index(category)]))\n",
    "    line_tensor = Variable(lineToTensor(line))\n",
    "    return category, line, category_tensor, line_tensor\n",
    "\n",
    "for i in range(10):\n",
    "    category, line, category_tensor, line_tensor = randomTrainingExample()\n",
    "    print('category =', category, '/ line =', line,'/ category_tensor =', category_tensor)"
   ]
  },
  {
   "cell_type": "code",
   "execution_count": 15,
   "metadata": {
    "collapsed": false
   },
   "outputs": [
    {
     "name": "stdout",
     "output_type": "stream",
     "text": [
      "['Vietnamese', 'German', 'Dutch', 'Scottish', 'Korean', 'Russian', 'Japanese', 'Czech', 'English', 'Polish', 'Arabic', 'Chinese', 'French', 'Spanish', 'Italian', 'Portuguese', 'Greek', 'Irish']\n"
     ]
    },
    {
     "data": {
      "text/plain": [
       "7"
      ]
     },
     "execution_count": 15,
     "metadata": {},
     "output_type": "execute_result"
    }
   ],
   "source": [
    "print(all_categories)\n",
    "random.randint(0,9)"
   ]
  },
  {
   "cell_type": "markdown",
   "metadata": {},
   "source": [
    "训练网络\n",
    "--------------------\n",
    "\n",
    "现在训练这个网络所需要的就是向大家展示一些例子, 让它猜测, 并告诉它是否是错误的.\n",
    "\n",
    "对于损失函数 ``nn.NLLLoss`` 是适当的, 因为RNN的最后一层是 ``nn.LogSoftmax``.\n",
    "\n",
    "\n"
   ]
  },
  {
   "cell_type": "code",
   "execution_count": 16,
   "metadata": {
    "collapsed": false
   },
   "outputs": [],
   "source": [
    "#选用损失函数\n",
    "criterion = nn.NLLLoss()"
   ]
  },
  {
   "cell_type": "markdown",
   "metadata": {},
   "source": [
    "每个训练循环都会:\n",
    "\n",
    "-  创建输入和目标张量\n",
    "-  创建一个归零的初始隐藏状态\n",
    "-  读入每个字母\n",
    "\n",
    "   -  为下一个字母保持隐藏状态\n",
    "\n",
    "-  比较最终输出与目标\n",
    "-  反向传播\n",
    "-  返回输出和损失\n",
    "\n",
    "\n"
   ]
  },
  {
   "cell_type": "code",
   "execution_count": 17,
   "metadata": {
    "collapsed": false
   },
   "outputs": [],
   "source": [
    "learning_rate = 0.005 # 如果设置得太高, 可能会爆炸. 如果太低, 可能无法学习.\n",
    "\n",
    "def train(category_tensor, line_tensor):#（种类标签，该标签下的一个名字）\n",
    "    hidden = rnn.initHidden()#初始化隐藏层的状态\n",
    "\n",
    "    rnn.zero_grad()#归零梯度，防止梯度累积\n",
    "\n",
    "    for i in range(line_tensor.size()[0]):#遍历一个名字示例的每个字母\n",
    "        output, hidden = rnn(line_tensor[i], hidden)#line_tensor[i]表示第i个字母的one-hot编码\n",
    "\n",
    "    loss = criterion(output, category_tensor)#计算损失\n",
    "    loss.backward()#反向传播\n",
    "\n",
    "    # 将参数梯度添加到它们的值,再乘以学习速率\n",
    "    # 实现简单更新参数的功能：p.data = p.data - learning_rate * p.grad.data\n",
    "    for p in rnn.parameters():\n",
    "        p.data.add_(-learning_rate, p.grad.data)\n",
    "        \n",
    "    return output, loss.item()"
   ]
  },
  {
   "cell_type": "markdown",
   "metadata": {},
   "source": [
    "现在我们只需要运行一些例子. 由于 ``train`` 函数返回输出和损失,我们可以打印它的猜测,并记录绘图的损失\n",
    "既然有1000个例子, 我们只打印每个 ``print_every`` 的例子, 并取平均的损失.\n",
    "\n",
    "\n"
   ]
  },
  {
   "cell_type": "code",
   "execution_count": 18,
   "metadata": {
    "collapsed": false
   },
   "outputs": [
    {
     "name": "stdout",
     "output_type": "stream",
     "text": [
      "5000 5% (0m 22s) 2.8405 Haanrade / Scottish ✗ (Dutch)\n",
      "10000 10% (0m 35s) 3.1330 Driml / German ✗ (Czech)\n",
      "15000 15% (0m 47s) 2.2509 Cruz / Spanish ✗ (Portuguese)\n",
      "20000 20% (1m 0s) 0.9616 Fausti / Italian ✓\n",
      "25000 25% (1m 11s) 3.4062 Zuraw / Arabic ✗ (Polish)\n",
      "30000 30% (1m 22s) 3.3418 Ivor / English ✗ (Irish)\n",
      "35000 35% (1m 35s) 2.6100 Martins / Portuguese ✗ (English)\n",
      "40000 40% (1m 47s) 0.7292 Huerta / Spanish ✓\n",
      "45000 45% (2m 0s) 0.0885 Katsourinis / Greek ✓\n",
      "50000 50% (2m 13s) 0.3363 Ryom / Korean ✓\n",
      "55000 55% (2m 27s) 2.1214 St pierre / English ✗ (French)\n",
      "60000 60% (2m 39s) 0.3247 Iwasa / Japanese ✓\n",
      "65000 65% (2m 59s) 4.1314 Althaus / Greek ✗ (German)\n",
      "70000 70% (3m 19s) 2.0779 Machado / Italian ✗ (Portuguese)\n",
      "75000 75% (3m 37s) 0.2975 Luong / Vietnamese ✓\n",
      "80000 80% (3m 52s) 1.8081 Partridge / French ✗ (English)\n",
      "85000 85% (4m 5s) 3.0747 Gerges / Portuguese ✗ (Arabic)\n",
      "90000 90% (4m 21s) 0.4902 Tsukamoto / Japanese ✓\n",
      "95000 95% (4m 34s) 2.7516 Pherigo / Portuguese ✗ (Italian)\n",
      "100000 100% (4m 49s) 0.0335 Shadid / Arabic ✓\n"
     ]
    }
   ],
   "source": [
    "import time\n",
    "import math\n",
    "\n",
    "n_iters = 100000\n",
    "print_every = 5000\n",
    "plot_every = 1000\n",
    "\n",
    "# 跟踪绘图的损失\n",
    "current_loss = 0\n",
    "all_losses = []\n",
    "\n",
    "#计算运算花费的时间\n",
    "def timeSince(since):\n",
    "    now = time.time()\n",
    "    s = now - since\n",
    "    m = math.floor(s / 60)\n",
    "    s -= m * 60\n",
    "    return '%dm %ds' % (m, s)\n",
    "\n",
    "start = time.time()\n",
    "\n",
    "for iter in range(1, n_iters + 1):\n",
    "    category, line, category_tensor, line_tensor = randomTrainingExample()#随机化挑选一个训练示例\n",
    "    output, loss = train(category_tensor, line_tensor)#返回该训练示例下的输出和损失\n",
    "    current_loss += loss#叠加损失，计算当前所有示例的累计损失\n",
    "\n",
    "    # 打印循环数,损失,名称和猜测\n",
    "    if iter % print_every == 0:#每5000个训练示例打印一次\n",
    "        guess, guess_i = categoryFromOutput(output)#返回猜测的标签及对应的下标\n",
    "        correct = '✓' if guess == category else '✗ (%s)' % category\n",
    "        print('%d %d%% (%s) %.4f %s / %s %s' % (iter, iter / n_iters * 100, \n",
    "                                                timeSince(start), loss, line, guess, correct))\n",
    "        #此处的loss为当前示例的损失\n",
    "\n",
    "    # 将当前损失平均值添加到损失清单\n",
    "    if iter % plot_every == 0:#每1000次计算下平均loss\n",
    "        all_losses.append(current_loss / plot_every)\n",
    "        current_loss = 0"
   ]
  },
  {
   "cell_type": "markdown",
   "metadata": {},
   "source": [
    "绘制结果\n",
    "--------------------\n",
    "\n",
    "从 ``all_losses`` 绘制历史损失显示网络学习:\n",
    "\n",
    "\n"
   ]
  },
  {
   "cell_type": "code",
   "execution_count": 19,
   "metadata": {
    "collapsed": false
   },
   "outputs": [
    {
     "data": {
      "image/png": "[encoded data removed]",
      "text/plain": [
       "<matplotlib.figure.Figure at 0x7f22ebd537f0>"
      ]
     },
     "metadata": {},
     "output_type": "display_data"
    }
   ],
   "source": [
    "import matplotlib.pyplot as plt\n",
    "import matplotlib.ticker as ticker\n",
    "\n",
    "plt.figure()\n",
    "plt.plot(all_losses)\n",
    "plt.show()"
   ]
  },
  {
   "cell_type": "markdown",
   "metadata": {},
   "source": [
    "评估结果\n",
    "======================\n",
    "\n",
    "要查看网络在不同类别中的表现如何, 我们将创建一个混淆矩阵,\n",
    "为每个实际语言 (行) 指示网络猜测哪种语言 (列).\n",
    "为了计算混淆矩阵,一堆样本通过网络运行 ``evaluate()``,\n",
    "这和 ``train()`` 减去反向传播是一样的.\n",
    "\n",
    "## 构建混淆矩阵\n",
    "\n",
    "\n"
   ]
  },
  {
   "cell_type": "code",
   "execution_count": 20,
   "metadata": {
    "collapsed": false
   },
   "outputs": [
    {
     "data": {
      "image/png": "[encoded data removed]",
      "text/plain": [
       "<matplotlib.figure.Figure at 0x7f22ebc80e48>"
      ]
     },
     "metadata": {},
     "output_type": "display_data"
    }
   ],
   "source": [
    "# 在混淆矩阵中跟踪正确的猜测\n",
    "confusion = torch.zeros(n_categories, n_categories)#创建一个空的混淆矩阵\n",
    "n_confusion = 10000\n",
    "\n",
    "# 只要返回给定一行的输出即可\n",
    "def evaluate(line_tensor):\n",
    "    hidden = rnn.initHidden()#初始化第一个隐藏输入\n",
    "\n",
    "    for i in range(line_tensor.size()[0]):\n",
    "        output, hidden = rnn(line_tensor[i], hidden)\n",
    "    return output\n",
    "\n",
    "# 通过一堆示例并记录哪些是正确的猜测\n",
    "for i in range(n_confusion):\n",
    "    category, line, category_tensor, line_tensor = randomTrainingExample()#随机挑选示例\n",
    "    output = evaluate(line_tensor)#返回预测结果\n",
    "    guess, guess_i = categoryFromOutput(output)#返回对应的猜测标签\n",
    "    category_i = all_categories.index(category)#返回真实标记在标签组中所在的下标\n",
    "    confusion[category_i][guess_i] += 1#对应下标位置的数值+1\n",
    "\n",
    "# 通过将每一行除以其总和来标准化\n",
    "for i in range(n_categories):\n",
    "    confusion[i] = confusion[i] / confusion[i].sum()\n",
    "\n",
    "# 设置绘图\n",
    "fig = plt.figure()#画布\n",
    "ax = fig.add_subplot(111)#位置\n",
    "cax = ax.matshow(confusion.numpy())\n",
    "fig.colorbar(cax)\n",
    "\n",
    "# 设置轴\n",
    "ax.set_xticklabels([''] + all_categories, rotation=90)\n",
    "ax.set_yticklabels([''] + all_categories)\n",
    "\n",
    "# Force label at every tick\n",
    "ax.xaxis.set_major_locator(ticker.MultipleLocator(1))\n",
    "ax.yaxis.set_major_locator(ticker.MultipleLocator(1))\n",
    "\n",
    "# sphinx_gallery_thumbnail_number = 2\n",
    "plt.show()"
   ]
  },
  {
   "cell_type": "markdown",
   "metadata": {},
   "source": [
    "您可以从主轴上选取显示错误猜测哪些语言的亮点,\n",
    "e.g. Chinese for Korean, and Spanish for Italian.\n",
    "它似乎与希腊语很好,英语很差 (可能是因为与其他语言重叠).\n",
    "\n",
    "\n"
   ]
  },
  {
   "cell_type": "markdown",
   "metadata": {},
   "source": [
    "在用户输入上运行\n",
    "---------------------\n",
    "\n",
    "\n"
   ]
  },
  {
   "cell_type": "code",
   "execution_count": 21,
   "metadata": {
    "collapsed": false
   },
   "outputs": [
    {
     "name": "stdout",
     "output_type": "stream",
     "text": [
      "\n",
      "> Dovesky\n",
      "(-0.61) Russian\n",
      "(-1.63) Czech\n",
      "(-1.94) Polish\n",
      "\n",
      "> Jackson\n",
      "(-1.15) Scottish\n",
      "(-1.55) English\n",
      "(-1.57) Dutch\n",
      "\n",
      "> Satoshi\n",
      "(-0.53) Arabic\n",
      "(-1.69) Japanese\n",
      "(-2.24) Italian\n"
     ]
    }
   ],
   "source": [
    "def predict(input_line, n_predictions=3):\n",
    "    print('\\n> %s' % input_line)\n",
    "    output = evaluate(Variable(lineToTensor(input_line)))\n",
    "\n",
    "    # 获取前N个类别\n",
    "    topv, topi = output.data.topk(n_predictions, 1, True)\n",
    "    predictions = []\n",
    "\n",
    "    for i in range(n_predictions):\n",
    "        value = topv[0][i]\n",
    "        category_index = topi[0][i]\n",
    "        print('(%.2f) %s' % (value, all_categories[category_index]))\n",
    "        predictions.append([value, all_categories[category_index]])\n",
    "\n",
    "predict('Dovesky')\n",
    "predict('Jackson')\n",
    "predict('Satoshi')"
   ]
  },
  {
   "cell_type": "markdown",
   "metadata": {},
   "source": [
    "脚本的最终版本 `in the Practical PyTorch repo <https://github.com/spro/practical-pytorch/tree/master/char-rnn-classification>`__\n",
    "将上面的代码分成几个文件:\n",
    "\n",
    "-  ``data.py`` (加载文件)\n",
    "-  ``model.py`` (定义RNN)\n",
    "-  ``train.py`` (运行训练)\n",
    "-  ``predict.py`` (用命令行参数运行 ``predict()`` )\n",
    "-  ``server.py`` (使用bottle.py将预测用作JSON API)\n",
    "\n",
    "运行 ``train.py`` 来训练和保存网络.\n",
    "\n",
    "运行具有名称的 ``predict.py`` 来查看预测:\n",
    "\n",
    "::\n",
    "\n",
    "    $ python predict.py Hazaki\n",
    "    (-0.42) Japanese\n",
    "    (-1.39) Polish\n",
    "    (-3.51) Czech\n",
    "\n",
    "运行 ``server.py`` 和查看 http://localhost:5533/Yourname 获取预测的JSON输出.\n",
    "\n",
    "\n"
   ]
  },
  {
   "cell_type": "markdown",
   "metadata": {},
   "source": [
    "练习\n",
    "=========\n",
    "\n",
    "-  尝试使用不同的数据集 线条 -> 类别, 例如:\n",
    "\n",
    "   -  任何单词 -> 语言\n",
    "   -  姓 -> 性别\n",
    "   -  角色名字 -> 作家\n",
    "   -  页面标题 -> 博客或subreddit\n",
    "\n",
    "-  通过更大和/或更好的形状网络获得更好的结果\n",
    "\n",
    "   -  添加更多线性图层\n",
    "   -  试试 ``nn.LSTM`` 和 ``nn.GRU`` 图层\n",
    "   -  将多个这些RNN组合为更高级别的网络\n",
    "\n",
    "\n"
   ]
  }
 ],
 "metadata": {
  "anaconda-cloud": {},
  "kernelspec": {
   "display_name": "Python [conda env:deeplearning]",
   "language": "python",
   "name": "conda-env-deeplearning-py"
  },
  "language_info": {
   "codemirror_mode": {
    "name": "ipython",
    "version": 3
   },
   "file_extension": ".py",
   "mimetype": "text/x-python",
   "name": "python",
   "nbconvert_exporter": "python",
   "pygments_lexer": "ipython3",
   "version": "3.5.4"
  }
 },
 "nbformat": 4,
 "nbformat_minor": 0
}
